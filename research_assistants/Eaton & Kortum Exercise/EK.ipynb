{
 "cells": [
  {
   "cell_type": "markdown",
   "metadata": {},
   "source": [
    "## Part A: Initiate the model ingredients and define functions (to be used in the optimization step).\n",
    "\n",
    "Load modules and packages:"
   ]
  },
  {
   "cell_type": "code",
   "execution_count": 136,
   "metadata": {},
   "outputs": [],
   "source": [
    "using Random, Distributions, Optim, NLsolve # JuMP, Ipopt"
   ]
  },
  {
   "cell_type": "markdown",
   "metadata": {
    "vscode": {
     "languageId": "julia"
    }
   },
   "source": [
    "### Step 1: Set the parameter values."
   ]
  },
  {
   "cell_type": "code",
   "execution_count": 137,
   "metadata": {},
   "outputs": [
    {
     "data": {
      "text/plain": [
       "TaskLocalRNG()"
      ]
     },
     "metadata": {},
     "output_type": "display_data"
    }
   ],
   "source": [
    "N = 3 # Number of countries\n",
    "J = 250000 # Number of goods (needs to be big number and an integer type)\n",
    "theta = 4 # Frechet shape parameter (governs comparative advantage)\n",
    "T = ones(N, 1) * 1.5 # Frechet scale parameter (governs absolute advantage)\n",
    "sigma = 2 # Substitution elasticity between goods\n",
    "tau = ones(N, N) # Iceberg trade costs\n",
    "L = ones(N, 1) # Size of labor force in each country\n",
    "\n",
    "Random.seed!(1) # Seed for the random number generator (to guarantee reproducibility; this is standard in research these days)"
   ]
  },
  {
   "cell_type": "markdown",
   "metadata": {},
   "source": [
    "### Step 2 : Draw a $J$-by-$N$ matrix of uniform random variables on $[0,1]$ and convert them to Fréchet random variables using the inverse CDF.\n",
    "\n",
    "These are the productivities for each good in each country.\n",
    "\n",
    "Note: In the 'Distributions' package, the inverse CDF can be calculated using the 'quantile()' function for any distribution defined in the package, of which 'Frechet' is one. More on the 'Distributions' package is available at https://juliastats.org/Distributions.jl/v0.14/index.html.\n",
    "\n",
    "Since you will be comparing economies with different shape parameters ($\\theta$), you can write a simple function where $\\theta$ is an argument to transform the uniform draws into Fréchet-distributed productivities.\n",
    "\n",
    "Save the productivities in an array. You can call it $z$.\n",
    "\n",
    "Let $n \\in {1,2,3}$ index the three countries and WLOG let $n=1$ be the \"Home\" country. Normalize the wage in \"Home\" to $w = 1$. The wages in countries 2 and 3 are endogenous variables."
   ]
  },
  {
   "cell_type": "code",
   "execution_count": 138,
   "metadata": {},
   "outputs": [
    {
     "data": {
      "text/plain": [
       "1"
      ]
     },
     "metadata": {},
     "output_type": "display_data"
    }
   ],
   "source": [
    "# Draw the J x N uniform r.v.:\n",
    "u = rand(J, N)\n",
    "# Define inverse Fréchet CDF:\n",
    "function inv_Frechet(u, T, theta)\n",
    "    return quantile.(Frechet(theta, T[1]), u)\n",
    "end\n",
    "# Initiate array of productivities:\n",
    "z = Array{Float64}(undef, J, N)\n",
    "# Evaluate the inv_Frechet function country-by-country:\n",
    "for n in 1:N\n",
    "    z[:, n] = inv_Frechet(u[:, n], T[n], theta)\n",
    "end\n",
    "# Initialize the 1 x (N-1) vector of wages:\n",
    "wage = Array{Float64}(undef, 1, N-1)\n",
    "#  The wage in country 1 is given by 'w1' and we normalize it to unity:\n",
    "w1 = 1"
   ]
  },
  {
   "cell_type": "markdown",
   "metadata": {},
   "source": [
    "### Step 3: Create a function that computes the trades shares for all countries, given the productivities and wages.\n",
    "\n",
    "Calculating these shares involves a couple of substeps:\n",
    "1. identify the lowest-cost producer of good $j$ in each of the $N$ different countries\n",
    "1. compute the trade shares given the selection in the previous sub-step.\n",
    "\n",
    "Note 1: Even though the wages in countries 2 and 3 are endogenous, you need to use a place holder for the purposes of defining the function. The function accepts these wages as arguments and in the optimization step the wages will be such that trade is balanced at the global scale.\n",
    "\n",
    "Note 2: We use 'w' to denote the vector of $N-1$ wages used as arguments in the functions below; 'wage' is an array that stores the equilibrium wages computed in Part B. Recall that the wage in country 1 is normalized to unity and we denote it 'w1'; it is a separate input argument for all functions and it is treated like a parameter (which is useful in anticipation of the optimization step below)."
   ]
  },
  {
   "cell_type": "code",
   "execution_count": 139,
   "metadata": {},
   "outputs": [
    {
     "data": {
      "text/plain": [
       "lcp (generic function with 2 methods)"
      ]
     },
     "metadata": {},
     "output_type": "display_data"
    }
   ],
   "source": [
    "# In this economy, goods indexed by the same j in [1,J] in all countries are perfect substitutes for one another. Countries select the lowest cost provider for each one of these J different goods.\n",
    "\n",
    "# Initialize the arrays for the returns:\n",
    "P = Array{Float64}(undef, N, 1)\n",
    "pi = Array{Float64}(undef, N, N)\n",
    "\n",
    "# Define a function to identify lowest-cost producer in each country for all J products across all other N countries (including the domestically produced good:\n",
    "function lcp(tau,w1,w,z,T,theta,sigma,N)\n",
    "    for n in 1:N\n",
    "        w_tmp = [w1 w[:]']\n",
    "        # In country 'n', find lowest cost producer for each j in {1,...,J}:\n",
    "        p_all = tau[n, :]' .* w_tmp ./ z\n",
    "        i = argmin(p_all, dims=2)\n",
    "        # Compute local prices in country 'n':\n",
    "        p_n = vec(p_all[i])\n",
    "        # Compute the price index in country 'n':\n",
    "        P[n] = only((ones(1, J) * (p_n .^ (1 - sigma))./J) .^ (1 / (1 - sigma))) # 'only' selects a single element from a collection; in this case, it converts the type from a 1 x 1 vector to a Float64 scalar \n",
    "        # Compute the expenditure shares:\n",
    "        Phi_n = only(ones(1, N) * (T .* (w_tmp' .* tau[n, :]) .^ (-theta)))\n",
    "        for m in 1:N\n",
    "            pi[n, m] = (T[m] .* (w_tmp[m] .* tau[n, m])^(-theta)) ./ Phi_n\n",
    "        end\n",
    "    end\n",
    "    return P, pi\n",
    "end"
   ]
  },
  {
   "cell_type": "markdown",
   "metadata": {},
   "source": [
    "### Step 4: Create a function that computes the trade balance for each country, again for given productivities and wages.\n",
    "\n",
    "Note: Use the shares and country-specific incomes to compute bilateral trade balances and then sum them across countries."
   ]
  },
  {
   "cell_type": "code",
   "execution_count": 140,
   "metadata": {},
   "outputs": [
    {
     "data": {
      "text/plain": [
       "trade_balance (generic function with 2 methods)"
      ]
     },
     "metadata": {},
     "output_type": "display_data"
    }
   ],
   "source": [
    "function trade_balance(tau,w1,w,z,T,theta,sigma,N,L)\n",
    "    # Compute the price indices and trade shares using the 'lcp' function defined above:\n",
    "    P,pi = lcp(tau,w1,w,z,T,theta,sigma,N)\n",
    "    # Compute total income for each country:\n",
    "    inc = [w1 w[:]'] .* L\n",
    "    tb = Array{Float64}(undef,1,N)\n",
    "    for n in 1:N\n",
    "        tb[1,n] = 0\n",
    "        for i in 1:N\n",
    "            tb[1,n] = tb[1,n] + pi[n,i] .* inc[i] - pi[i,n] .* inc[n]\n",
    "        end\n",
    "    end\n",
    "    return tb[2:N]\n",
    "end"
   ]
  },
  {
   "cell_type": "markdown",
   "metadata": {},
   "source": [
    "### Step 5: Create a function that reports some additional equilibrium results.\n",
    "\n",
    "The functions you have defined so far will be used in a non-linear optimizer that solves the system of equations. Let the output of this optimization be 'sol' and treat it as a placeholder for now. In the optimization step 'sol' will be the vector of wages in all N countries.\n",
    "\n",
    "In particular, store the following results in arrays:\n",
    "1. equilibrium wages, and\n",
    "2. welfare (i.e., $\\tfrac{wL}{P}$).\n",
    "\n",
    "You can also print these results to the screen using the 'println' function or command."
   ]
  },
  {
   "cell_type": "code",
   "execution_count": 141,
   "metadata": {},
   "outputs": [
    {
     "data": {
      "text/plain": [
       "report_results (generic function with 2 methods)"
      ]
     },
     "metadata": {},
     "output_type": "display_data"
    }
   ],
   "source": [
    "function report_results(w1, sol, L, tau, z, T, theta, sigma, N)\n",
    "    income =  [w1 sol[:]'].* L\n",
    "    tb = trade_balance(tau, w1, sol[:]', z, T, theta, sigma, N, L)\n",
    "    P, pi = lcp(tau, w1, sol, z, T, theta, sigma, N)\n",
    "    welfare = [w1 sol[:]'] ./ P[:]'\n",
    "    # Print results to screen:\n",
    "    println(\"Equilibrium wages:\\n\", round.(sol[:]',digits=3))\n",
    "    println(\"Trade shares:\\n\", round.(pi,digits=3))\n",
    "    println(\"Trade balances in countries 2 and 3:\\n\", round.(tb,digits=3))\n",
    "    println(\"Welfare (w/P):\\n\", round.(welfare, digits=3))\n",
    "end"
   ]
  },
  {
   "cell_type": "markdown",
   "metadata": {},
   "source": [
    "Note 1: This particular function will not be called by the non-linear optimizer and, therefore, there is no need to write it in a way such that additional parameters (other than the wage) can be passed to the solver.\n",
    "\n",
    "Note 2: 'sol' is a placeholder array for the output arguments of the non-linear solver (i.e., wages in country 2,...,N)."
   ]
  },
  {
   "cell_type": "markdown",
   "metadata": {},
   "source": [
    "# Part B: Solve the model.\n",
    "\n",
    "### Question a.\n",
    "Countries are symmetric in terms of size and productivities. Trade is free (i.e., the iceberg costs of international trade between any pair of origin and destination are normalized to 1). Symmetry implies that wages are equalized across countries, provided that J is large enough and therefore that law of large numbers applies. In other words, we don't actually have to solve for the wage vector and we could instead compute the trade shares for a given vector of unit-value wages. Also, since international trade is free, the expenditure shares $\\pi$ calculated using the 'lcp' function are symmetric as well (namely, $\\pi$ is an $N \\times N$ matrix with identical elements equal to $\\tfrac{1}{N}$)\n",
    "\n",
    "There are several options for solving systems of non-linear equations numerically. In this particular case, we are looking for the root of the sum of country-specific trade balances (in other words, the vector of wages such that the *global* trade balance equals zero). In other work, I have used the *JuMP.jl* package to solve systems of equations. The package has advantages and drawbacks. The advantage is that it can call a number of different solvers and it can handle a variety of optimization problems (constrained, unconstrained, linear, non-linear,...). The drawback is that the syntax has to fit the requirements of the package and it can be \"clunky\" to work with.\n",
    "\n",
    "For this problem, we can use the *Optim.jl* package, which is a solver with a more standard syntax (similar to solvers commonly used in *MATLAB*, for instance). Chapter 9 of the *julia.quantecon.org* website has some helpful material and references to get you started with the *Optim* package."
   ]
  },
  {
   "cell_type": "markdown",
   "metadata": {},
   "source": [
    "There are two options for the optimization step in this problem.\n",
    "\n",
    "1. Use the _Optim_ package and minimize the squared trade balances.\n",
    "1. Use the _NLsolve_ package and find the zeros of the trade balance function.\n",
    "\n",
    "Here, I will use the _Optim_ package first since I pointed you in that direction. I will also provide the solution for the root-finding problem based on _NLsolve_."
   ]
  },
  {
   "cell_type": "code",
   "execution_count": 142,
   "metadata": {},
   "outputs": [
    {
     "name": "stdout",
     "output_type": "stream",
     "text": [
      "Equilibrium wages:\n",
      "[1.0 1.0]\n",
      "Trade shares:\n",
      "[0.333 0.333 0.333; 0.333 0.333 0.333; 0.333 0.333 0.333]\n",
      "Trade balances in countries 2 and 3:\n",
      "[0.0, 0.0]\n",
      "Welfare (w/P):\n",
      "[2.417 2.417 2.417]\n",
      "Equilibrium wages:\n",
      "[1.0 1.0]\n",
      "Trade shares:\n",
      "[0.333 0.333 0.333; 0.333 0.333 0.333; 0.333 0.333 0.333]\n",
      "Trade balances in countries 2 and 3:\n",
      "[0.0, 0.0]\n",
      "Welfare (w/P):\n",
      "[2.417 2.417 2.417]\n"
     ]
    }
   ],
   "source": [
    "# Since we are minimizing the squared trade balances, we need an auxiliary function that sums the squares of the N-1 trade balances for countries 2,...,N.\n",
    "function trade_balance_sq(tau,w1,w,z,T,theta,sigma,N,L)\n",
    "    tbsq = sum(trade_balance(tau,w1,w,z,T,theta,sigma,N,L).^2)\n",
    "    return tbsq\n",
    "end\n",
    "\n",
    "# Recall that we are solving for the wages in countries 2,...,N such that trade is balanced in these N-1 countries. When trade is indeed balance, then Walras Law immediately implies that the trade is balanced in country 1. This guarantees that the number of unknowns equals the number of equations in the system that we are solving.\n",
    "\n",
    "# Our objective function 'trade_balance_sq' accepts several input arguments, only one of which is 'w'. To \"feed\" the objective function to the optimizer, we need to create an anonymous function that redefines 'trade_balance_sq' as a function of a single argument 'w'.\n",
    "sol_a = optimize(w -> trade_balance_sq(tau,w1,w,z,T,theta,sigma,N,L), [1.1 1.1])\n",
    "# Now we use the minimizer from the optimization step and \"feed\" it to the 'report_results' function as an input argument:\n",
    "report_results(w1, Optim.minimizer(sol_a), L, tau, z, T, theta, sigma, N)\n",
    "\n",
    "# Next, let's find the solution by way of a root-finding algorithm instead, which is available in the 'NLsolve' package.\n",
    "root_a = nlsolve(w -> trade_balance(tau,w1,w,z,T,theta,sigma,N,L), [1.1 1.1])\n",
    "# Results based on root-finding algorithm:\n",
    "report_results(w1, root_a.zero, L, tau, z, T, theta, sigma, N)\n"
   ]
  },
  {
   "cell_type": "markdown",
   "metadata": {},
   "source": [
    "### Question b.\n",
    "\n",
    "Countries remain symmetric but international trade is subject to uniform iceberg costs $\\tau = 1.1$.\n"
   ]
  },
  {
   "cell_type": "code",
   "execution_count": 143,
   "metadata": {},
   "outputs": [
    {
     "name": "stdout",
     "output_type": "stream",
     "text": [
      "Equilibrium wages:\n",
      "[1.0 1.0]\n",
      "Trade shares:\n",
      "[0.423 0.289 0.289; 0.289 0.423 0.289; 0.289 0.289 0.423]\n",
      "Trade balances in countries 2 and 3:\n",
      "[-0.0, 0.0]\n",
      "Welfare (w/P):\n",
      "[2.278 2.278 2.278]\n",
      "Equilibrium wages:\n",
      "[1.0 1.0]\n",
      "Trade shares:\n",
      "[0.423 0.289 0.289; 0.289 0.423 0.289; 0.289 0.289 0.423]\n",
      "Trade balances in countries 2 and 3:\n",
      "[0.0, 0.0]\n",
      "Welfare (w/P):\n",
      "[2.278 2.278 2.278]\n"
     ]
    }
   ],
   "source": [
    "# Update the matrix of iceberg costs:\n",
    "tau = tau .* 1.1\n",
    "# Make an adjustment for the fact that domestic trade is costless:\n",
    "for n in 1:N\n",
    "    tau[n,n]=1\n",
    "end\n",
    "# Use the result from question a. as the initial guess for the optimization in question b.:\n",
    "sol_b = optimize(w -> trade_balance_sq(tau,w1,w,z,T,theta,sigma,N,L), Optim.minimizer(sol_a))\n",
    "# Now we use the minimizer from the optimization step and \"feed\" it to the 'report_results' function as an input argument:\n",
    "report_results(w1, Optim.minimizer(sol_b), L, tau, z, T, theta, sigma, N)\n",
    "# Find the solution by way of a root-finding algorithm instead, which is available in the 'NLsolve' package.\n",
    "root_b = nlsolve(w -> trade_balance(tau,w1,w,z,T,theta,sigma,N,L), root_a.zero)\n",
    "# Results based on root-finding algorithm:\n",
    "report_results(w1, root_b.zero, L, tau, z, T, theta, sigma, N)\n"
   ]
  },
  {
   "cell_type": "markdown",
   "metadata": {},
   "source": [
    "### Question c.\n",
    "Countries are still symmetric but country 3 is \"remote\", i.e. $\\tau_{13} = \\tau_{31} = \\tau_{23} = \\tau_{32} = 1.3$. The other trade costs are the same as in b."
   ]
  },
  {
   "cell_type": "code",
   "execution_count": 144,
   "metadata": {},
   "outputs": [
    {
     "name": "stdout",
     "output_type": "stream",
     "text": [
      "Equilibrium wages:\n",
      "[1.0 0.969]\n",
      "Trade shares:\n",
      "[0.481 0.328 0.191; 0.328 0.481 0.191; 0.191 0.191 0.618]\n",
      "Trade balances in countries 2 and 3:\n",
      "[0.0, -0.0]\n",
      "Welfare (w/P):\n",
      "[2.205 2.206 2.071]\n",
      "Equilibrium wages:\n",
      "[1.0 0.969]\n",
      "Trade shares:\n",
      "[0.481 0.328 0.191; 0.328 0.481 0.191; 0.191 0.191 0.618]\n",
      "Trade balances in countries 2 and 3:\n",
      "[0.0, -0.0]\n",
      "Welfare (w/P):\n",
      "[2.205 2.206 2.071]\n"
     ]
    }
   ],
   "source": [
    "tau[1,3] = 1.3\n",
    "tau[3,1] = tau[1,3]\n",
    "tau[2,3] = 1.3\n",
    "tau[3,2] = tau[2,3]\n",
    "\n",
    "# Use the result from question a. as the initial guess for the optimization in question c.:\n",
    "sol_c = optimize(w -> trade_balance_sq(tau,w1,w,z,T,theta,sigma,N,L), Optim.minimizer(sol_a))\n",
    "# Now we use the minimizer from the optimization step and \"feed\" it to the 'report_results' function as an input argument:\n",
    "report_results(w1, Optim.minimizer(sol_c), L, tau, z, T, theta, sigma, N)\n",
    "# Find the solution by way of a root-finding algorithm instead, which is available in the 'NLsolve' package.\n",
    "root_c = nlsolve(w -> trade_balance(tau,w1,w,z,T,theta,sigma,N,L), root_a.zero)\n",
    "# Results based on root-finding algorithm:\n",
    "report_results(w1, root_c.zero, L, tau, z, T, theta, sigma, N)\n"
   ]
  },
  {
   "cell_type": "markdown",
   "metadata": {},
   "source": [
    "### Question d.\n",
    "Country 2 is more productive than 1 and 3. Everything else is as in c."
   ]
  },
  {
   "cell_type": "code",
   "execution_count": 145,
   "metadata": {},
   "outputs": [
    {
     "name": "stdout",
     "output_type": "stream",
     "text": [
      "Equilibrium wages:\n",
      "[1.075 0.969]\n",
      "Trade shares:\n",
      "[0.481 0.328 0.191; 0.328 0.481 0.191; 0.191 0.191 0.618]\n",
      "Trade balances in countries 2 and 3:\n",
      "[-0.0, -0.0]\n",
      "Welfare (w/P):\n",
      "[2.42 2.69 2.195]\n",
      "Equilibrium wages:\n",
      "[1.075 0.969]\n",
      "Trade shares:\n",
      "[0.481 0.328 0.191; 0.328 0.481 0.191; 0.191 0.191 0.618]\n",
      "Trade balances in countries 2 and 3:\n",
      "[-0.0, 0.0]\n",
      "Welfare (w/P):\n",
      "[2.42 2.69 2.195]\n"
     ]
    }
   ],
   "source": [
    "# Increase T in country 2 from its original value to 2:\n",
    "T[2] = 2\n",
    "# Update the productivities in country 2 accordingly:\n",
    "z[:, 2] = inv_Frechet(u[:, 2], T[2], theta)\n",
    "\n",
    "# Use the result from question c. as the initial guess for the optimization in question d.:\n",
    "sol_d = optimize(w -> trade_balance_sq(tau,w1,w,z,T,theta,sigma,N,L), Optim.minimizer(sol_c))\n",
    "# Now we use the minimizer from the optimization step and \"feed\" it to the 'report_results' function as an input argument:\n",
    "report_results(w1, Optim.minimizer(sol_d), L, tau, z, T, theta, sigma, N)\n",
    "# Find the solution by way of a root-finding algorithm instead, which is available in the 'NLsolve' package.\n",
    "root_d = nlsolve(w -> trade_balance(tau,w1,w,z,T,theta,sigma,N,L), root_c.zero)\n",
    "# Results based on root-finding algorithm:\n",
    "report_results(w1, root_d.zero, L, tau, z, T, theta, sigma, N)\n"
   ]
  },
  {
   "cell_type": "markdown",
   "metadata": {},
   "source": [
    "### Question e.\n",
    "Change the value of the shape parameter in the Fréchet distribution but keep everything else as in c."
   ]
  },
  {
   "cell_type": "code",
   "execution_count": 146,
   "metadata": {},
   "outputs": [
    {
     "name": "stdout",
     "output_type": "stream",
     "text": [
      "Equilibrium wages:\n",
      "[1.0 0.983]\n",
      "Trade shares:\n",
      "[0.622 0.29 0.088; 0.29 0.622 0.088; 0.088 0.088 0.824]\n",
      "Trade balances in countries 2 and 3:\n",
      "[0.0, -0.0]\n",
      "Welfare (w/P):\n",
      "[1.734 1.734 1.674]\n",
      "Equilibrium wages:\n",
      "[1.0 0.983]\n",
      "Trade shares:\n",
      "[0.622 0.29 0.088; 0.29 0.622 0.088; 0.088 0.088 0.824]\n",
      "Trade balances in countries 2 and 3:\n",
      "[0.0, -0.0]\n",
      "Welfare (w/P):\n",
      "[1.734 1.734 1.674]\n"
     ]
    }
   ],
   "source": [
    "theta = 8\n",
    "T[2] = T[1]\n",
    "# Update the productivities in all N countries:\n",
    "for n in 1:N\n",
    "    z[:, n] = inv_Frechet(u[:, n], T[n], theta)\n",
    "end\n",
    "\n",
    "# Use the result from question c. as the initial guess for the optimization in question d.:\n",
    "sol_e = optimize(w -> trade_balance_sq(tau,w1,w,z,T,theta,sigma,N,L), Optim.minimizer(sol_c))\n",
    "# Now we use the minimizer from the optimization step and \"feed\" it to the 'report_results' function as an input argument:\n",
    "report_results(w1, Optim.minimizer(sol_e), L, tau, z, T, theta, sigma, N)\n",
    "# Find the solution by way of a root-finding algorithm instead, which is available in the 'NLsolve' package.\n",
    "root_e = nlsolve(w -> trade_balance(tau,w1,w,z,T,theta,sigma,N,L), root_c.zero)\n",
    "# Results based on root-finding algorithm:\n",
    "report_results(w1, root_e.zero, L, tau, z, T, theta, sigma, N)\n"
   ]
  }
 ],
 "metadata": {
  "kernelspec": {
   "display_name": "Julia 1.8.2",
   "language": "julia",
   "name": "julia-1.8"
  },
  "language_info": {
   "file_extension": ".jl",
   "mimetype": "application/julia",
   "name": "julia",
   "version": "1.8.2"
  }
 },
 "nbformat": 4,
 "nbformat_minor": 2
}
