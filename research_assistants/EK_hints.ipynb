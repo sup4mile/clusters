{
 "cells": [
  {
   "cell_type": "markdown",
   "metadata": {},
   "source": [
    "## 1. Welfare in the Eaton and Kortum (2002) economy\n",
    "Consider a three country world, where the endowment of labor in each country is 1. There is a continuum of goods $k$ and the technology for producing a good $k$ in country $i$ is $y_i(k) = z_i(k)\\ell_i(k)$. Preferences are of constant elasticity of substitution form, with the elasticity set to 2. Assume that the distributions over $z$ are Frechet with  $\\theta = 4$."
   ]
  },
  {
   "cell_type": "markdown",
   "metadata": {},
   "source": [
    "## Solving the model\n",
    "The code below solves the N-country model. First, I set up some useful functions, then I solve the models. The general algorithm is \n",
    "\n",
    "0. Draw productivity values for each country (1...N) and good (1...J): NxJ total productivities.\n",
    "1. Guess a vector of wages (country 1 has the normalization w=1)\n",
    "2. Given the wage vector, find the prices each country offers for each good-destination\n",
    "3. Choose the lowest cost provider for each good to each country\n",
    "4. Use the demand function to compute expenditure shares and the aggregate trade balance for each country\n",
    "5. Is trade balanced? If so, we have an equilibrium. If not, adjust the guess of wages and return to step 2.\n",
    "\n",
    "I will solve this by writing a function that takes w as an input and returns the vector of trade balances. Then, I will pass this funciton to a nonlinear solver and have it find the w that zeros the function. \n",
    "\n",
    "\\[I am writing this in python because I find it easy to read. I am also using this as practice at writing better python. This is a pretty easy model to solve, but python is not (out of the box) the best language for solving hard numerical problems.\\]"
   ]
  },
  {
   "cell_type": "code",
   "execution_count": 1,
   "metadata": {},
   "outputs": [],
   "source": [
    "import numpy as np      # Numerical computing in python\n",
    "import scipy.optimize   # Root finding routines\n",
    "\n",
    "# Format output so floats have 3 decimal places\n",
    "np.set_printoptions(formatter={'float': lambda x: \"{0:0.3f}\".format(x)})"
   ]
  },
  {
   "cell_type": "markdown",
   "metadata": {},
   "source": [
    "Set up the parameters. "
   ]
  },
  {
   "cell_type": "code",
   "execution_count": 2,
   "metadata": {},
   "outputs": [],
   "source": [
    "N = 3                       # Number of countries\n",
    "J = 200000                 # Number of goods (this needs to be a big number)\n",
    "theta = 4                   # Frechet spread parameter\n",
    "T = np.ones((N,1))*1.5      # Frechet location parameters\n",
    "rho = 0.5                   # 1/(1-rho) is the elasticity of substitution\n",
    "tau = np.ones((N,N))        # Trade costs.  (1+tau) in the notes\n",
    "L = np.ones((N,1))          # Country sizes\n",
    "\n",
    "rand_seed = 4               # Seed for the random number generator (for reproducibility)"
   ]
  },
  {
   "cell_type": "markdown",
   "metadata": {},
   "source": [
    "Define the inverse Frechet cdf function. To draw random Frechet values, we draw uniform (0,1) numbers and pass them through the inverse Frechet. "
   ]
  },
  {
   "cell_type": "code",
   "execution_count": 3,
   "metadata": {},
   "outputs": [],
   "source": [
    "def inverse_Frechet(u,T,theta):\n",
    "    return (np.log(u)/-T )**(-1/theta)"
   ]
  },
  {
   "cell_type": "markdown",
   "metadata": {},
   "source": [
    "This function draws the J-by-N matrix of marginal costs, z."
   ]
  },
  {
   "cell_type": "code",
   "execution_count": 4,
   "metadata": {},
   "outputs": [],
   "source": [
    "def draw_mc(J, N, T, theta, rand_seed):\n",
    "    \n",
    "    np.random.seed(seed = rand_seed)                  # Set random generator seed for reproducability\n",
    "    z = np.random.uniform(size=(J,N))                 # Draw uniform random numbers\n",
    "\n",
    "    # Apply the inverse Frechet \n",
    "    for n in range(0,N):                       \n",
    "        z[:,n] = inverse_Frechet(z[:,n], T[n], theta)\n",
    "    \n",
    "    return z"
   ]
  },
  {
   "cell_type": "markdown",
   "metadata": {},
   "source": [
    "This function takes the wages and productivity draws and computes the trade shares for each country"
   ]
  },
  {
   "cell_type": "code",
   "execution_count": 5,
   "metadata": {},
   "outputs": [],
   "source": [
    "def compute_shares(wage, z, tau, N, J, rho):\n",
    "    \n",
    "    # Add the normalized home country wage to the wage vector \n",
    "    w = np.insert(wage, 0, 1)\n",
    "    \n",
    "    # allocate the return variables\n",
    "    shares = np.zeros((N,N)) \n",
    "    P = np.empty((N,1))\n",
    "    \n",
    "    for n in range(0, N):\n",
    "        # find the country that provides n with lowest cost of each good\n",
    "        i = np.argmin(w*tau[n, :]/z, axis = 1)  # Numpy broadcasts the vector tau[n,:] across the rows of z\n",
    "                \n",
    "        # compute prices, price index, and shares\n",
    "        p = (w*tau[n, :]/z)[np.arange(J), i]                # values associated with the argmin above\n",
    "        \n",
    "        P[n, 0] = ( np.sum(p**(rho/(rho-1))) * 1/J ) ** ((rho-1)/rho)\n",
    "        s = 1/J * (p / P[n, 0]) ** (-rho/(1-rho) )\n",
    "        \n",
    "        # Is there a better way to do this?\n",
    "        for ex in range(0,N):\n",
    "            shares[n, ex] = np.sum( s[i==ex] )\n",
    "    \n",
    "    \n",
    "    return shares, P\n",
    "    \n",
    "    "
   ]
  },
  {
   "cell_type": "code",
   "execution_count": 6,
   "metadata": {},
   "outputs": [],
   "source": [
    "def trade_balance(wage, L, z, tau, N, J, rho, opt):\n",
    "    \n",
    "    # For the given wage vector and parameters, compute the agg. trade shares\n",
    "    shares, P = compute_shares(wage, z, tau, N, J, rho)\n",
    "    \n",
    "    # Compute the trade balance.  Do this by computing the trade balance with each country and suming them up.\n",
    "    w = np.insert(wage, 0, 1)    \n",
    "    inc = np.multiply(w, np.transpose(L))                     # income in country n is wage times labor\n",
    "    \n",
    "    tb = np.zeros((N,1))\n",
    "    \n",
    "    for n in range(0,N):\n",
    "        for i in range(0,N):\n",
    "            if i != n:\n",
    "                tb[n,0]  = tb[n,0] + shares[i,n]*inc[0,i] - shares[n,i]*inc[0,n]\n",
    "    \n",
    "    # If I am using this funtion in a optimization routine, do not return the first trade balance. It is zero by Walras Law.\n",
    "    if opt == 1:\n",
    "        return tb[1:,0]\n",
    "    else:\n",
    "        return tb\n"
   ]
  },
  {
   "cell_type": "markdown",
   "metadata": {},
   "source": [
    "Once we have solved the model, this function reports useful equilibrium objects. "
   ]
  },
  {
   "cell_type": "markdown",
   "metadata": {},
   "source": []
  },
  {
   "cell_type": "code",
   "execution_count": 7,
   "metadata": {},
   "outputs": [],
   "source": [
    "def report_results(sol, z, tau, N, J, rho):\n",
    "    \n",
    "    w = np.insert(sol, 0, 1)\n",
    "    inc = np.multiply(w, np.transpose(L))\n",
    "    s, P = compute_shares(sol, z, tau, N, J, rho)\n",
    "    tb = trade_balance(sol, L, z, tau, N, J, rho, 0)\n",
    "    welfare = inc/np.transpose(P)\n",
    "\n",
    "    print('The equilibrium wage vector is:', w)\n",
    "    print('\\nThe trade share matrix is:\\n', s)\n",
    "    print('\\nThe trade balances are:\\n', tb)\n",
    "    print('\\nWelfare (wL/P) is:', welfare)"
   ]
  },
  {
   "cell_type": "markdown",
   "metadata": {},
   "source": [
    "**a. Simple and symmetric.** Let there be no trade costs, i.e., $\\tau_{ni} = 0$, and let $T_i = 1.5$ for all $i$. Report the equilibrium bilateral trade share matrix. (An element of the matrix is $\\pi_{ ni}$, the share of total spending in $n$ on goods from $i$.) The solution to this model is trivial, so this is a good place to first check that our programs are working."
   ]
  },
  {
   "cell_type": "code",
   "execution_count": 8,
   "metadata": {},
   "outputs": [
    {
     "name": "stdout",
     "output_type": "stream",
     "text": [
      "The expenditure matrix is:\n",
      "[[0.335 0.332 0.333]\n",
      " [0.335 0.332 0.333]\n",
      " [0.335 0.332 0.333]]\n"
     ]
    }
   ],
   "source": [
    "# Draw marginal costs\n",
    "z = draw_mc(J, N, T, theta, rand_seed)\n",
    "\n",
    "# Coutnries are symmetric, so all have w = 1 in equilibrium\n",
    "# I am not solving for the equilbrium here, just computing the expenditure shares\n",
    "\n",
    "w = np.ones((2,1))\n",
    "s, P = compute_shares(w, z, tau, N, J, rho)\n",
    "\n",
    "\n",
    "print('The expenditure matrix is:')\n",
    "print(s)"
   ]
  },
  {
   "cell_type": "markdown",
   "metadata": {},
   "source": [
    "Increasing J makes this closer to a matrix of 1/3. Larger J slows down solving for equilibrium below. "
   ]
  },
  {
   "cell_type": "markdown",
   "metadata": {},
   "source": [
    "**b. Symmetric geography.** Now introduce iceberg trade costs. Let $\\tau_{ ni} = 0.1$ for each $n \\neq i$,\n",
    "and keep the remaining parameters as in part (a). Report the bilateral trade share matrix."
   ]
  },
  {
   "cell_type": "code",
   "execution_count": 9,
   "metadata": {},
   "outputs": [
    {
     "name": "stdout",
     "output_type": "stream",
     "text": [
      "The trade cost matrix is now:\n",
      " [[1.000 1.100 1.100]\n",
      " [1.100 1.000 1.100]\n",
      " [1.100 1.100 1.000]]\n"
     ]
    }
   ],
   "source": [
    "# Draw marginal costs\n",
    "z = draw_mc(J, N, T, theta, rand_seed)\n",
    "\n",
    "# Create the trade cost matrix\n",
    "tau = np.ones((N,N))*1.1\n",
    "for n in range(0,N):\n",
    "    tau[n, n] = 1.0\n",
    "\n",
    "print('The trade cost matrix is now:\\n', tau)\n"
   ]
  },
  {
   "cell_type": "code",
   "execution_count": 10,
   "metadata": {},
   "outputs": [
    {
     "name": "stdout",
     "output_type": "stream",
     "text": [
      "\n",
      "The expenditure matrix is:\n",
      "[[0.424 0.288 0.289]\n",
      " [0.290 0.422 0.289]\n",
      " [0.291 0.288 0.422]]\n"
     ]
    }
   ],
   "source": [
    "# Countries are still symmetric, so all have w = 1 in equilibrium\n",
    "\n",
    "w = np.ones((2,1))\n",
    "s, P = compute_shares(w, z, tau, N, J, rho)\n",
    "\n",
    "print('\\nThe expenditure matrix is:')\n",
    "print(s)"
   ]
  },
  {
   "cell_type": "markdown",
   "metadata": {},
   "source": [
    "**c. Asymmetric geography.** Countries have identical technologies, $T_i = 1.5$ for all $i$, and $\\theta = 4$. Country 3, however, is 'far away' from countries 1 and 2: $\\tau_{12} = \\tau_{ 21} = 1.05$ and $\\tau_{ 13} = \\tau_{ 31} = \\tau_{ 32} = \\tau_{ 23} = 1.3$. Report the equilibrium bilateral trade share matrix. (An element of the matrix is $\\pi_{ni}$, the share of total spending in $n$ on goods from $i$.) Report an index of welfare in each country, $w_i /P_i$ , where $P_i$ is the CES aggregate price index. \\[My equilibrium wage vector is: (1, 1, 0.966).\\]"
   ]
  },
  {
   "cell_type": "code",
   "execution_count": 11,
   "metadata": {},
   "outputs": [
    {
     "name": "stdout",
     "output_type": "stream",
     "text": [
      "The trade cost matrix is:\n",
      " [[1.000 1.050 1.300]\n",
      " [1.050 1.000 1.300]\n",
      " [1.300 1.300 1.000]]\n"
     ]
    }
   ],
   "source": [
    "\n",
    "tau[0,:] = [1.0, 1.05, 1.3]\n",
    "tau[1,:] = [1.05, 1.0, 1.3]\n",
    "tau[2,:] = [1.3, 1.3, 1.0]\n",
    "print('The trade cost matrix is:\\n', tau)\n",
    "\n",
    "# Draw marginal costs\n",
    "z = draw_mc(J, N, T, theta, rand_seed)\n"
   ]
  },
  {
   "cell_type": "markdown",
   "metadata": {},
   "source": [
    "The world is no longer symmetric. Now we have to solve for the equilibrium wage vector. To do so, we need to choose $w_2$ and $w_3$ so that the aggregate trade balance for countries 2 and 3 are zero. We normalized $w_1=1$ and we get balanced trade in country 1 by Walras Law.  "
   ]
  },
  {
   "cell_type": "code",
   "execution_count": 12,
   "metadata": {},
   "outputs": [],
   "source": [
    "# Solve model\n",
    "wage0 = np.ones((2,1))\n",
    "sol  = scipy.optimize.newton_krylov(lambda k: trade_balance(k, L, z, tau, N, J, rho, 1), wage0, f_tol = 0.0001)"
   ]
  },
  {
   "cell_type": "code",
   "execution_count": 13,
   "metadata": {},
   "outputs": [
    {
     "name": "stdout",
     "output_type": "stream",
     "text": [
      "The equilibrium wage vector is: [1.000 0.998 0.963]\n",
      "\n",
      "The trade share matrix is:\n",
      " [[0.449 0.369 0.182]\n",
      " [0.369 0.448 0.182]\n",
      " [0.190 0.188 0.622]]\n",
      "\n",
      "The trade balances are:\n",
      " [[0.000]\n",
      " [-0.000]\n",
      " [0.000]]\n",
      "\n",
      "Welfare (wL/P) is: [[1.660 1.657 1.527]]\n"
     ]
    }
   ],
   "source": [
    "# Report results\n",
    "report_results(sol, z, tau, N, J, rho)"
   ]
  },
  {
   "cell_type": "markdown",
   "metadata": {},
   "source": [
    "**d. Technological progress.** Let $T_2 = 3$, and keep the remaining parameters as in part\n",
    "(c). This is a technological improvement in country 2. \\[You will need to redraw your\n",
    "productivities.\\] Report the bilateral trade share matrix. \n",
    "\n",
    "Compare welfare in this economy with welfare in the economy in part (c). Discuss your findings in the context of how an\n",
    "increase in technology in one country benefits other countries. \\[My equilibrium wage vector\n",
    "is: (1, 1.14, 0.962).\\]"
   ]
  },
  {
   "cell_type": "code",
   "execution_count": 14,
   "metadata": {},
   "outputs": [
    {
     "name": "stdout",
     "output_type": "stream",
     "text": [
      "The trade cost matrix is:\n",
      " [[1.000 1.050 1.300]\n",
      " [1.050 1.000 1.300]\n",
      " [1.300 1.300 1.000]]\n"
     ]
    }
   ],
   "source": [
    "# Set parameters\n",
    "T[1] = 3\n",
    "\n",
    "# Draw marginal costs\n",
    "z = draw_mc(J, N, T, theta, rand_seed)\n",
    "\n",
    "tau[0,:] = [1.0, 1.05, 1.3]\n",
    "tau[1,:] = [1.05, 1.0, 1.3]\n",
    "tau[2,:] = [1.3, 1.3, 1.0]\n",
    "print('The trade cost matrix is:\\n', tau)\n"
   ]
  },
  {
   "cell_type": "code",
   "execution_count": 15,
   "metadata": {},
   "outputs": [],
   "source": [
    "# Solve the model\n",
    "wage0 = np.ones((2,1))\n",
    "sol  = scipy.optimize.newton_krylov(lambda k: trade_balance(k, L, z, tau, N, J, rho, 1), wage0, f_tol = 0.0001)"
   ]
  },
  {
   "cell_type": "code",
   "execution_count": 16,
   "metadata": {},
   "outputs": [
    {
     "name": "stdout",
     "output_type": "stream",
     "text": [
      "The equilibrium wage vector is: [1.000 1.149 0.960]\n",
      "\n",
      "The trade share matrix is:\n",
      " [[0.426 0.398 0.176]\n",
      " [0.347 0.480 0.174]\n",
      " [0.183 0.208 0.609]]\n",
      "\n",
      "The trade balances are:\n",
      " [[0.000]\n",
      " [-0.000]\n",
      " [-0.000]]\n",
      "\n",
      "Welfare (wL/P) is: [[1.682 1.938 1.535]]\n"
     ]
    }
   ],
   "source": [
    "# Report results\n",
    "report_results(sol, z, tau, N, J, rho)\n"
   ]
  },
  {
   "cell_type": "markdown",
   "metadata": {},
   "source": [
    "**e. Frechet dispersion.** Now change $\\theta = 8$, and keep the remaining parameters as in part (c)\n",
    "(i.e., change $T_2 = 1.5$). \\[You will need to redraw your productivities.\\] Report the bilateral\n",
    "trade share matrix. Compare welfare in this economy with welfare in the economy in part\n",
    "(c). What is the intuition for this result? How does the change in $\\theta$ affect countries 1 and\n",
    "2 compared to country 3? Why? \\[My equilibrium wage vector is: (1, 1, 0.978).\\]"
   ]
  },
  {
   "cell_type": "code",
   "execution_count": 17,
   "metadata": {},
   "outputs": [
    {
     "name": "stdout",
     "output_type": "stream",
     "text": [
      "The trade cost matrix is:\n",
      " [[1.000 1.050 1.300]\n",
      " [1.050 1.000 1.300]\n",
      " [1.300 1.300 1.000]]\n"
     ]
    }
   ],
   "source": [
    "# Set up parameters\n",
    "theta = 8\n",
    "T[1] = 1.5\n",
    "\n",
    "tau[0,:] = [1.0, 1.05, 1.3]\n",
    "tau[1,:] = [1.05, 1.0, 1.3]\n",
    "tau[2,:] = [1.3, 1.3, 1.0]\n",
    "print('The trade cost matrix is:\\n', tau)\n",
    "\n",
    "# Draw the marginal costs\n",
    "z = draw_mc(J, N, T, theta, rand_seed)"
   ]
  },
  {
   "cell_type": "code",
   "execution_count": 18,
   "metadata": {},
   "outputs": [],
   "source": [
    "# Solve model\n",
    "wage0 = np.ones((2,1))\n",
    "sol  = scipy.optimize.newton_krylov(lambda k: trade_balance(k, L, z, tau, N, J, rho, 1), wage0, f_tol = 0.0001)"
   ]
  },
  {
   "cell_type": "code",
   "execution_count": 19,
   "metadata": {},
   "outputs": [
    {
     "name": "stdout",
     "output_type": "stream",
     "text": [
      "The equilibrium wage vector is: [1.000 0.999 0.975]\n",
      "\n",
      "The trade share matrix is:\n",
      " [[0.547 0.371 0.082]\n",
      " [0.371 0.548 0.082]\n",
      " [0.085 0.083 0.832]]\n",
      "\n",
      "The trade balances are:\n",
      " [[0.000]\n",
      " [-0.000]\n",
      " [0.000]]\n",
      "\n",
      "Welfare (wL/P) is: [[1.237 1.236 1.173]]\n"
     ]
    }
   ],
   "source": [
    "# Report results\n",
    "report_results(sol, z, tau, N, J, rho)\n"
   ]
  },
  {
   "cell_type": "code",
   "execution_count": null,
   "metadata": {},
   "outputs": [],
   "source": []
  }
 ],
 "metadata": {
  "celltoolbar": "Attachments",
  "kernelspec": {
   "display_name": "Python 3",
   "language": "python",
   "name": "python3"
  },
  "language_info": {
   "codemirror_mode": {
    "name": "ipython",
    "version": 3
   },
   "file_extension": ".py",
   "mimetype": "text/x-python",
   "name": "python",
   "nbconvert_exporter": "python",
   "pygments_lexer": "ipython3",
   "version": "3.9.16"
  }
 },
 "nbformat": 4,
 "nbformat_minor": 2
}
