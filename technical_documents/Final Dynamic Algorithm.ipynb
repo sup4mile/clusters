{
 "cells": [
  {
   "cell_type": "markdown",
   "id": "6f7e1daf",
   "metadata": {},
   "source": [
    "Figuring out the time periods for each variable in the algorithm-:\n",
    "Those with pre-initialized beginnings-:\n",
    "mu\n",
    "pi\n",
    "L\n",
    "w\n",
    "\n",
    "\n",
    "The variables whose end should be at nl or nl-1 during iteration not nl+1-:\n",
    "mu- end at nl"
   ]
  },
  {
   "cell_type": "code",
   "execution_count": 1,
   "id": "2b217bfb",
   "metadata": {},
   "outputs": [
    {
     "data": {
      "text/plain": [
       "2"
      ]
     },
     "execution_count": 1,
     "metadata": {},
     "output_type": "execute_result"
    }
   ],
   "source": [
    "nl = 100 # time periods\n",
    "n = 2 # locations\n",
    "j = 2 # industries\n",
    "i = n # locations = n for 3 to 4 dim variables\n",
    "k = j # industries = j for 3 to 4 dim variables"
   ]
  },
  {
   "cell_type": "code",
   "execution_count": 2,
   "id": "96b34c0e",
   "metadata": {},
   "outputs": [
    {
     "data": {
      "text/plain": [
       "1.1"
      ]
     },
     "execution_count": 2,
     "metadata": {},
     "output_type": "execute_result"
    }
   ],
   "source": [
    "μ = Array{Float64}(undef, n, j, i, k, nl+1) # migration shares\n",
    "π_0 = Array{Float64}(undef, n, j, i, j, nl+1) # cross-expenditures\n",
    "β = 0.8\n",
    "ν = 1.1"
   ]
  },
  {
   "cell_type": "code",
   "execution_count": 3,
   "id": "a28ee6c4",
   "metadata": {},
   "outputs": [
    {
     "data": {
      "text/plain": [
       "TaskLocalRNG()"
      ]
     },
     "execution_count": 3,
     "metadata": {},
     "output_type": "execute_result"
    }
   ],
   "source": [
    "using Random\n",
    "Random.seed!(1)"
   ]
  },
  {
   "cell_type": "code",
   "execution_count": 4,
   "id": "c50f0368",
   "metadata": {},
   "outputs": [
    {
     "data": {
      "text/plain": [
       "2×2×2×2 Array{Float64, 4}:\n",
       "[:, :, 1, 1] =\n",
       " 0.0419308  0.344161\n",
       " 0.359995   0.203362\n",
       "\n",
       "[:, :, 2, 1] =\n",
       " 0.199601   0.0725269\n",
       " 0.0900771  0.000908277\n",
       "\n",
       "[:, :, 1, 2] =\n",
       " 0.399398  0.289712\n",
       " 0.306728  0.381414\n",
       "\n",
       "[:, :, 2, 2] =\n",
       " 0.35907   0.293601\n",
       " 0.243201  0.414316"
      ]
     },
     "execution_count": 4,
     "metadata": {},
     "output_type": "execute_result"
    }
   ],
   "source": [
    "for x in 1:n\n",
    "    for y in 1:j\n",
    "        matrix = rand(i, k)\n",
    "        matrix2 = matrix/sum(matrix)\n",
    "        μ[x, y, :, :, 1] = matrix2\n",
    "    end\n",
    "end\n",
    "μ[:, :, :, :, 1]"
   ]
  },
  {
   "cell_type": "code",
   "execution_count": 5,
   "id": "3d47a1b0",
   "metadata": {},
   "outputs": [
    {
     "data": {
      "text/plain": [
       "2×2×2×2 Array{Float64, 4}:\n",
       "[:, :, 1, 1] =\n",
       " 0.308254  0.238938\n",
       " 0.187336  0.354732\n",
       "\n",
       "[:, :, 2, 1] =\n",
       " 0.0196254  0.272704\n",
       " 0.341713   0.298983\n",
       "\n",
       "[:, :, 1, 2] =\n",
       " 0.491333  0.118526\n",
       " 0.141249  0.17604\n",
       "\n",
       "[:, :, 2, 2] =\n",
       " 0.180788  0.369832\n",
       " 0.329702  0.170244"
      ]
     },
     "execution_count": 5,
     "metadata": {},
     "output_type": "execute_result"
    }
   ],
   "source": [
    "for x in 1:n\n",
    "    for y in 1:j\n",
    "        matrix = rand(i, k)\n",
    "        matrix2 = matrix/sum(matrix)\n",
    "        π_0[x, y, :, :, 1] = matrix2\n",
    "    end\n",
    "end\n",
    "π_0[:, :, :, :, 1]"
   ]
  },
  {
   "cell_type": "code",
   "execution_count": 6,
   "id": "8cdb650d",
   "metadata": {},
   "outputs": [
    {
     "data": {
      "text/plain": [
       "2×2×2×2×101 Array{Float64, 5}:\n",
       "[:, :, 1, 1, 1] =\n",
       " 1.049  0.975\n",
       " 1.026  1.045\n",
       "\n",
       "[:, :, 2, 1, 1] =\n",
       " 0.951  0.921\n",
       " 0.99   1.08\n",
       "\n",
       "[:, :, 1, 2, 1] =\n",
       " 1.025  1.053\n",
       " 0.988  0.983\n",
       "\n",
       "[:, :, 2, 2, 1] =\n",
       " 0.99   0.929\n",
       " 0.938  1.075\n",
       "\n",
       "[:, :, 1, 1, 2] =\n",
       " 0.963  1.03\n",
       " 1.021  0.934\n",
       "\n",
       "[:, :, 2, 1, 2] =\n",
       " 1.008  1.007\n",
       " 0.942  1.044\n",
       "\n",
       "[:, :, 1, 2, 2] =\n",
       " 1.027  1.065\n",
       " 1.029  1.049\n",
       "\n",
       "[:, :, 2, 2, 2] =\n",
       " 1.045  0.939\n",
       " 1.022  0.985\n",
       "\n",
       "[:, :, 1, 1, 3] =\n",
       " 1.017  0.953\n",
       " 1.047  0.96\n",
       "\n",
       "[:, :, 2, 1, 3] =\n",
       " 0.966  1.079\n",
       " 1.067  1.048\n",
       "\n",
       "[:, :, 1, 2, 3] =\n",
       " 0.927  1.036\n",
       " 0.985  1.055\n",
       "\n",
       "[:, :, 2, 2, 3] =\n",
       " 0.931  1.078\n",
       " 1.054  1.048\n",
       "\n",
       ";;;;; … \n",
       "\n",
       "[:, :, 1, 1, 99] =\n",
       " 1.08   1.022\n",
       " 0.978  1.025\n",
       "\n",
       "[:, :, 2, 1, 99] =\n",
       " 0.988  0.968\n",
       " 1.056  1.051\n",
       "\n",
       "[:, :, 1, 2, 99] =\n",
       " 0.997  1.005\n",
       " 1.061  1.046\n",
       "\n",
       "[:, :, 2, 2, 99] =\n",
       " 1.038  0.961\n",
       " 0.947  0.998\n",
       "\n",
       "[:, :, 1, 1, 100] =\n",
       " 1.05  1.025\n",
       " 1.02  0.961\n",
       "\n",
       "[:, :, 2, 1, 100] =\n",
       " 0.948  1.066\n",
       " 1.071  0.997\n",
       "\n",
       "[:, :, 1, 2, 100] =\n",
       " 0.941  0.973\n",
       " 1.011  1.01\n",
       "\n",
       "[:, :, 2, 2, 100] =\n",
       " 1.047  1.028\n",
       " 0.986  1.033\n",
       "\n",
       "[:, :, 1, 1, 101] =\n",
       " 1.016  0.957\n",
       " 0.998  1.077\n",
       "\n",
       "[:, :, 2, 1, 101] =\n",
       " 0.946  1.014\n",
       " 0.959  0.95\n",
       "\n",
       "[:, :, 1, 2, 101] =\n",
       " 0.95   0.941\n",
       " 0.929  1.011\n",
       "\n",
       "[:, :, 2, 2, 101] =\n",
       " 0.985  1.059\n",
       " 0.976  0.944"
      ]
     },
     "execution_count": 6,
     "metadata": {},
     "output_type": "execute_result"
    }
   ],
   "source": [
    "κdot = rand(0.92:0.001:1.08, (n, j, i, k, nl+1))"
   ]
  },
  {
   "cell_type": "code",
   "execution_count": 7,
   "id": "0b6f69b1",
   "metadata": {},
   "outputs": [
    {
     "data": {
      "text/plain": [
       "2×2×101 Array{Float64, 3}:\n",
       "[:, :, 1] =\n",
       " 1.004  0.982\n",
       " 0.984  0.986\n",
       "\n",
       "[:, :, 2] =\n",
       " 1.007  1.008\n",
       " 0.994  0.999\n",
       "\n",
       "[:, :, 3] =\n",
       " 1.001  0.981\n",
       " 1.014  0.985\n",
       "\n",
       ";;; … \n",
       "\n",
       "[:, :, 99] =\n",
       " 0.98   1.0\n",
       " 0.989  1.014\n",
       "\n",
       "[:, :, 100] =\n",
       " 0.987  0.993\n",
       " 0.992  0.998\n",
       "\n",
       "[:, :, 101] =\n",
       " 0.998  0.981\n",
       " 0.996  1.018"
      ]
     },
     "execution_count": 7,
     "metadata": {},
     "output_type": "execute_result"
    }
   ],
   "source": [
    "Ȧ = rand(0.98:0.001:1.02, (n, j, nl+1))"
   ]
  },
  {
   "cell_type": "code",
   "execution_count": 8,
   "id": "3c3da455",
   "metadata": {},
   "outputs": [
    {
     "data": {
      "text/plain": [
       "2×2 Matrix{Float64}:\n",
       " 0.25007  0.155137\n",
       " 0.3511   0.243693"
      ]
     },
     "execution_count": 8,
     "metadata": {},
     "output_type": "execute_result"
    }
   ],
   "source": [
    "L = Array{Float64}(undef, n, j, nl+1)\n",
    "L_setup_matrix = rand(n, j)\n",
    "L[:, :, 1] = L_setup_matrix/sum(L_setup_matrix)"
   ]
  },
  {
   "cell_type": "code",
   "execution_count": 9,
   "id": "14d0752c",
   "metadata": {},
   "outputs": [
    {
     "data": {
      "text/plain": [
       "2×2 Matrix{Float64}:\n",
       " 1.179  1.403\n",
       " 1.365  1.124"
      ]
     },
     "execution_count": 9,
     "metadata": {},
     "output_type": "execute_result"
    }
   ],
   "source": [
    "w = Array{Float64}(undef, n, j, nl+1)\n",
    "w[:, :, 1] = rand(0.5:0.001:1.5, (n, j))"
   ]
  },
  {
   "cell_type": "code",
   "execution_count": 10,
   "id": "d2b6b6e1",
   "metadata": {},
   "outputs": [
    {
     "data": {
      "text/plain": [
       "2×101 Matrix{Float64}:\n",
       " 2.82569     1.23445   0.828066  1.78571  …  0.884455  1.70148  0.43028\n",
       " 0.674978  105.765    18.0888    2.2091      4.53019   3.58693  1.14706"
      ]
     },
     "execution_count": 10,
     "metadata": {},
     "output_type": "execute_result"
    }
   ],
   "source": [
    "using Distributions\n",
    "θ_var = Frechet()\n",
    "θ_list = rand(θ_var, (n, nl+1))"
   ]
  },
  {
   "cell_type": "code",
   "execution_count": 11,
   "id": "c169b37a",
   "metadata": {},
   "outputs": [
    {
     "data": {
      "text/plain": [
       "2×2×101 Array{Float64, 3}:\n",
       "[:, :, 1] =\n",
       " 1.0  1.0\n",
       " 1.0  1.0\n",
       "\n",
       "[:, :, 2] =\n",
       " 1.0  1.0\n",
       " 1.0  1.0\n",
       "\n",
       "[:, :, 3] =\n",
       " 1.0  1.0\n",
       " 1.0  1.0\n",
       "\n",
       ";;; … \n",
       "\n",
       "[:, :, 99] =\n",
       " 1.0  1.0\n",
       " 1.0  1.0\n",
       "\n",
       "[:, :, 100] =\n",
       " 1.0  1.0\n",
       " 1.0  1.0\n",
       "\n",
       "[:, :, 101] =\n",
       " 1.0  1.0\n",
       " 1.0  1.0"
      ]
     },
     "execution_count": 11,
     "metadata": {},
     "output_type": "execute_result"
    }
   ],
   "source": [
    "u̇_0t = ones(n, j, nl+1)"
   ]
  },
  {
   "cell_type": "code",
   "execution_count": 12,
   "id": "bc4127ec",
   "metadata": {},
   "outputs": [
    {
     "data": {
      "text/plain": [
       "2×2×101 Array{Float64, 3}:\n",
       "[:, :, 1] =\n",
       " 1.0  1.0\n",
       " 1.0  1.0\n",
       "\n",
       "[:, :, 2] =\n",
       " 1.0  1.0\n",
       " 1.0  1.0\n",
       "\n",
       "[:, :, 3] =\n",
       " 1.0  1.0\n",
       " 1.0  1.0\n",
       "\n",
       ";;; … \n",
       "\n",
       "[:, :, 99] =\n",
       " 1.0  1.0\n",
       " 1.0  1.0\n",
       "\n",
       "[:, :, 100] =\n",
       " 1.0  1.0\n",
       " 1.0  1.0\n",
       "\n",
       "[:, :, 101] =\n",
       " 1.0  1.0\n",
       " 1.0  1.0"
      ]
     },
     "execution_count": 12,
     "metadata": {},
     "output_type": "execute_result"
    }
   ],
   "source": [
    "ẇ = ones(n, j, nl+1)"
   ]
  },
  {
   "cell_type": "code",
   "execution_count": 13,
   "id": "812c06db",
   "metadata": {},
   "outputs": [
    {
     "data": {
      "text/plain": [
       "2×2×101 Array{Float64, 3}:\n",
       "[:, :, 1] =\n",
       " 8.48409e-251  4.87111e-163\n",
       " 3.64536e-158  2.3991e-236\n",
       "\n",
       "[:, :, 2] =\n",
       " 3.8101e-149   1.7113e-158\n",
       " 1.71086e-158  2.01829e-265\n",
       "\n",
       "[:, :, 3] =\n",
       " 4.02153e-87   NaN\n",
       " 9.49217e-270    5.01536e-293\n",
       "\n",
       ";;; … \n",
       "\n",
       "[:, :, 99] =\n",
       " 0.0  0.0\n",
       " 0.0  0.0\n",
       "\n",
       "[:, :, 100] =\n",
       " 0.0  0.0\n",
       " 0.0  0.0\n",
       "\n",
       "[:, :, 101] =\n",
       " 0.0  0.0\n",
       " 0.0  0.0"
      ]
     },
     "execution_count": 13,
     "metadata": {},
     "output_type": "execute_result"
    }
   ],
   "source": [
    "ẇn = Array{Float64}(undef, n, j, nl+1)\n",
    "Ṗ = Array{Float64}(undef, n, j, nl+1)\n",
    "X = Array{Float64}(undef, n, j, nl+1)\n",
    "α = Array{Float64}(undef, j, nl+1)\n",
    "ẇ_old = Array{Float64}(undef, n, j, nl+1)\n",
    "u̇_0t_old = Array{Float64}(undef, n, j, nl+1)\n",
    "u̇_1t = Array{Float64}(undef, n, j, nl+1)"
   ]
  },
  {
   "cell_type": "code",
   "execution_count": 16,
   "id": "b58016ea",
   "metadata": {},
   "outputs": [
    {
     "name": "stdout",
     "output_type": "stream",
     "text": [
      "OUTER LOOP STARTS\n",
      "inner loop starts\n"
     ]
    },
    {
     "ename": "LoadError",
     "evalue": "DomainError with -5.229221971032956e282:\nExponentiation yielding a complex result requires a complex argument.\nReplace x^y with (x+0im)^y, Complex(x)^y, or similar.",
     "output_type": "error",
     "traceback": [
      "DomainError with -5.229221971032956e282:\nExponentiation yielding a complex result requires a complex argument.\nReplace x^y with (x+0im)^y, Complex(x)^y, or similar.",
      "",
      "Stacktrace:",
      " [1] throw_exp_domainerror(x::Float64)",
      "   @ Base.Math .\\math.jl:37",
      " [2] ^(x::Float64, y::Float64)",
      "   @ Base.Math .\\math.jl:1008",
      " [3] top-level scope",
      "   @ In[16]:32"
     ]
    }
   ],
   "source": [
    "#while !all(0.95 .*u̇_0t[:, :, t] .<= u̇_0t_old[:, :, t] .<= 1.05.*u̇_0t[:, :, t] for t in 1:nl+1 & 0.95.*ones(n, j).<= u̇_0t[:, :, nl+1] .<= 1.05.*ones(n, j))\n",
    "while !(all(all(0.95 .*u̇_0t[:, :, t] .<= u̇_0t_old[:, :, t] .<= 1.05.*u̇_0t[:, :, t]) for t in 1:nl+1) & all(0.95.*ones(n, j) .<= u̇_0t[:, :, nl+1] .<= 1.05.*ones(n, j)))\n",
    "    println(\"OUTER LOOP STARTS\")\n",
    "    u̇_0t_old .= deepcopy(u̇_0t)\n",
    "    for t in 2:nl\n",
    "        for a in 1:n\n",
    "            for b in 1:j\n",
    "                for c in 1:i\n",
    "                    for d in 1:k\n",
    "                        denom = sum(μ[a, b, m, h, t-1]*((u̇_0t[m, h, t+1])^(β/ν)) for m in 1:n, h in 1:j)\n",
    "                        numer = (μ[a, b, c, d, t-1]*((u̇_0t[c, d, t+1])^(β/ν)))\n",
    "                        μ[a, b, c, d, t] = numer/denom\n",
    "                    end\n",
    "                end\n",
    "            end\n",
    "        end\n",
    "    end\n",
    "    for t in 2:nl+1\n",
    "        for a in 1:n\n",
    "            for b in 1:j\n",
    "                L[a, b, t] = sum(μ[c, d, a, b, t]*L[c, d, t-1] for c in 1:i, d in 1:k)\n",
    "            end\n",
    "        end\n",
    "    end\n",
    "    while !all(0.95*ẇ .<= ẇ_old .<= 1.05*ẇ)\n",
    "        println(\"inner loop starts\")\n",
    "        ẇ_old .= deepcopy(ẇ)\n",
    "        for t in 2:nl+1\n",
    "            for a in 1:n\n",
    "                for b in 1:j\n",
    "                    for c in 1:i\n",
    "                        Ṗ[n, j, t] = (sum(π_0[a, b, c, b, t]*((ẇ[c, b, t]*κdot[a, b, c, b, t])^(-θ_list[b, t]))*((Ȧ[c, b, t])^θ_list[b, t]) for c in 1:i))^(-1/θ_list[b, t])   \n",
    "                    end\n",
    "                end\n",
    "            end\n",
    "        end\n",
    "        for t in 2:nl+1\n",
    "            for a in 1:n\n",
    "                for c in 1:i\n",
    "                    for b in 1:j\n",
    "                        π_0[a, b, c, b, t] = π_0[a, b, c, b]*(((ẇ[c, b]*κdot[a, b, c, b])/Ṗ[a, b])^(-θ_list[b]))*((Ȧ[c,b])^θ_list[b])\n",
    "                    end\n",
    "                end\n",
    "            end  \n",
    "        end\n",
    "        for t in 1:nl+1\n",
    "            for a in 1:n\n",
    "                for b in 1:j\n",
    "                    X[n, j, t] = w[n, j, t]*L[n, j, t]\n",
    "                end\n",
    "            end\n",
    "        end\n",
    "                    \n",
    "        for t in 1:nl+1\n",
    "            for b in 1:j\n",
    "                α[b, t] = sum(X[k, b, t] for k in 1:n)/sum(X[j, l, t] for j in 1:n, l in 1:j)\n",
    "            end\n",
    "        end\n",
    "        \n",
    "        for t in 2:nl+1\n",
    "            for a in 1:n\n",
    "                for b in 1:j\n",
    "                    w[a, b, t] = w[a, b, t-1]*ẇ[a, b, t]\n",
    "                end\n",
    "            end\n",
    "        end\n",
    "        \n",
    "        for t in 1:nl+1\n",
    "            for a in 1:n\n",
    "                for b in 1:j\n",
    "                    ẇn[a, b, t] = sum(π_0[c, b, a, b, t]*X[c, b, t] for c in 1:i)/(L[a, b, t]*w[a, b, t])\n",
    "                end\n",
    "            end\n",
    "        end\n",
    "        \n",
    "        ẇ .= ẇn\n",
    "        println(\"inner loop ends\")\n",
    "    end\n",
    "    for t in 1:nl-1\n",
    "        for a in 1:n\n",
    "            for b in 1:j\n",
    "                u̇_1t[a, b, t+1] = ẇ[a, b, t+1]*((sum(μ[a, b, c, d, t]*(u̇_0t[c, d, t+2])^(β/ν) for c in 1:i, d in 1:k))^(ν))\n",
    "            end\n",
    "        end\n",
    "    end\n",
    "    u̇_1t[:, :, nl+1] = ones(n, j)  # Discuss this with Professor Alder\n",
    "    u̇_0t .= u̇_1t\n",
    "    println(\"OUTER LOOP ENDS\")\n",
    "end"
   ]
  },
  {
   "cell_type": "code",
   "execution_count": null,
   "id": "59c38f55",
   "metadata": {},
   "outputs": [],
   "source": []
  }
 ],
 "metadata": {
  "kernelspec": {
   "display_name": "Julia 1.8.5",
   "language": "julia",
   "name": "julia-1.8"
  },
  "language_info": {
   "file_extension": ".jl",
   "mimetype": "application/julia",
   "name": "julia",
   "version": "1.8.5"
  }
 },
 "nbformat": 4,
 "nbformat_minor": 5
}
