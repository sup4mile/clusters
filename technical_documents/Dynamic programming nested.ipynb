{
 "cells": [
  {
   "cell_type": "code",
   "execution_count": 1,
   "id": "825b4d8d",
   "metadata": {},
   "outputs": [
    {
     "data": {
      "text/plain": [
       "1.1"
      ]
     },
     "execution_count": 1,
     "metadata": {},
     "output_type": "execute_result"
    }
   ],
   "source": [
    "μ_min1 = Array{Float64}(undef, 2, 2, 2, 2)\n",
    "π0 = Array{Float64}(undef, 2 ,2 , 2, 2)\n",
    "β = 0.8\n",
    "ν = 1.1"
   ]
  },
  {
   "cell_type": "code",
   "execution_count": 2,
   "id": "6c4dc25a",
   "metadata": {},
   "outputs": [
    {
     "data": {
      "text/plain": [
       "2×2×2×2 Array{Float64, 4}:\n",
       "[:, :, 1, 1] =\n",
       " 0.361376   0.0627167\n",
       " 0.0262126  0.0396221\n",
       "\n",
       "[:, :, 2, 1] =\n",
       " 0.281423  0.130466\n",
       " 0.374074  0.465261\n",
       "\n",
       "[:, :, 1, 2] =\n",
       " 0.0767369  0.492714\n",
       " 0.331151   0.0355924\n",
       "\n",
       "[:, :, 2, 2] =\n",
       " 0.280464  0.314104\n",
       " 0.268563  0.459524"
      ]
     },
     "execution_count": 2,
     "metadata": {},
     "output_type": "execute_result"
    }
   ],
   "source": [
    "for i in 1:2\n",
    "    for j in 1:2\n",
    "        matrix = rand(2, 2)\n",
    "        matrix2 = matrix/sum(matrix)\n",
    "        μ_min1[i, j, :, :] = matrix2\n",
    "    end\n",
    "end\n",
    "μ_min1"
   ]
  },
  {
   "cell_type": "code",
   "execution_count": 3,
   "id": "d6ee303f",
   "metadata": {},
   "outputs": [
    {
     "data": {
      "text/plain": [
       "2×2×2×2 Array{Float64, 4}:\n",
       "[:, :, 1, 1] =\n",
       " 0.131254  0.481893\n",
       " 0.172591  0.00845185\n",
       "\n",
       "[:, :, 2, 1] =\n",
       " 0.453227  0.193638\n",
       " 0.409105  0.43712\n",
       "\n",
       "[:, :, 1, 2] =\n",
       " 0.10609  0.166756\n",
       " 0.17543  0.471137\n",
       "\n",
       "[:, :, 2, 2] =\n",
       " 0.30943   0.157714\n",
       " 0.242873  0.0832904"
      ]
     },
     "execution_count": 3,
     "metadata": {},
     "output_type": "execute_result"
    }
   ],
   "source": [
    "for i in 1:2\n",
    "    for j in 1:2\n",
    "        matrix = rand(2, 2)\n",
    "        matrix2 = matrix/sum(matrix)\n",
    "        π0[i, j, :, :] = matrix2\n",
    "    end\n",
    "end\n",
    "π0"
   ]
  },
  {
   "cell_type": "code",
   "execution_count": 4,
   "id": "f821fb1f",
   "metadata": {},
   "outputs": [
    {
     "data": {
      "text/plain": [
       "2×2×2×2 Array{Float64, 4}:\n",
       "[:, :, 1, 1] =\n",
       " 0.982  1.04\n",
       " 0.996  1.008\n",
       "\n",
       "[:, :, 2, 1] =\n",
       " 0.979  1.067\n",
       " 1.027  1.006\n",
       "\n",
       "[:, :, 1, 2] =\n",
       " 1.077  0.99\n",
       " 1.002  1.019\n",
       "\n",
       "[:, :, 2, 2] =\n",
       " 0.957  1.019\n",
       " 1.038  0.97"
      ]
     },
     "execution_count": 4,
     "metadata": {},
     "output_type": "execute_result"
    }
   ],
   "source": [
    "κdot = rand(0.95:0.001:1.08, (2, 2, 2, 2))"
   ]
  },
  {
   "cell_type": "code",
   "execution_count": 5,
   "id": "7c7e3b5f",
   "metadata": {},
   "outputs": [
    {
     "data": {
      "text/plain": [
       "2×2 Matrix{Float64}:\n",
       " 1.002  1.026\n",
       " 1.044  0.992"
      ]
     },
     "execution_count": 5,
     "metadata": {},
     "output_type": "execute_result"
    }
   ],
   "source": [
    "Ȧ = rand(0.98:0.001:1.05, (2, 2))"
   ]
  },
  {
   "cell_type": "code",
   "execution_count": 6,
   "id": "e99b3acb",
   "metadata": {},
   "outputs": [
    {
     "data": {
      "text/plain": [
       "2×2 Matrix{Float64}:\n",
       " 0.10845   0.199478\n",
       " 0.375173  0.316899"
      ]
     },
     "execution_count": 6,
     "metadata": {},
     "output_type": "execute_result"
    }
   ],
   "source": [
    "L_setup_matrix = rand(2, 2)\n",
    "L0 = L_setup_matrix/sum(L_setup_matrix)"
   ]
  },
  {
   "cell_type": "code",
   "execution_count": 7,
   "id": "8a0a6bb5",
   "metadata": {},
   "outputs": [
    {
     "data": {
      "text/plain": [
       "2×2 Matrix{Float64}:\n",
       " 1.203  1.333\n",
       " 0.682  0.903"
      ]
     },
     "execution_count": 7,
     "metadata": {},
     "output_type": "execute_result"
    }
   ],
   "source": [
    "w0 = rand(0.5:0.001:1.5, (2, 2))"
   ]
  },
  {
   "cell_type": "code",
   "execution_count": 8,
   "id": "19f3739b",
   "metadata": {},
   "outputs": [
    {
     "data": {
      "text/plain": [
       "2-element Vector{Float64}:\n",
       " 0.19239663457364212\n",
       " 2.576172013142694"
      ]
     },
     "execution_count": 8,
     "metadata": {},
     "output_type": "execute_result"
    }
   ],
   "source": [
    "using Distributions\n",
    "θ_var = Frechet()\n",
    "θ_list = rand(θ_var, 2)"
   ]
  },
  {
   "cell_type": "code",
   "execution_count": null,
   "id": "b3cae945",
   "metadata": {},
   "outputs": [
    {
     "name": "stdout",
     "output_type": "stream",
     "text": [
      "["
     ]
    }
   ],
   "source": [
    "u̇_0t = Array{Float64}(undef, 2, 2, 2)\n",
    "u̇_0t[:, :, 1] = rand(0.98:0.001:1.05, (2, 2))\n",
    "u̇_0t[:, :, 2] = ones(2, 2)\n",
    "println(u̇_0t)\n",
    "ẇ = rand(0.97:0.001:1.06, (2, 2))\n",
    "μ_0 = Array{Float64}(undef, 2, 2, 2, 2)\n",
    "L1 = Array{Float64}(undef, 2, 2)\n",
    "ẇn = Array{Float64}(undef, 2, 2)\n",
    "Ṗ = Array{Float64}(undef, 2, 2)\n",
    "π1 = Array{Float64}(undef, 2, 2, 2, 2)\n",
    "X = Array{Float64}(undef, 2, 2)\n",
    "α = Array{Float64}(undef, 2)\n",
    "Xt1 = Array{Float64}(undef, 2, 2)\n",
    "\n",
    "while !all(0.99 .* u̇_0t[:, :, 2] .<= u̇_0t[:, :, 1].<= 1.01 .* u̇_0t[:, :, 2])\n",
    "#    μ_0 = Array{Float64}(undef, 2, 2, 2, 2)\n",
    "    for n in 1:2\n",
    "        for j in 1:2\n",
    "            for i in 1:2\n",
    "                for k in 1:2\n",
    "                    denom = sum(μ_min1[n, j, p, q]*((u̇_0t[p, q, 2])^(β/ν)) for p in 1:2, q in 1:2)\n",
    "                    μ_0[n, j, i, k] = (μ_min1[n, j, i, k]*((u̇_0t[i, k, 2])^(β/ν)))/denom\n",
    "                end\n",
    "            end\n",
    "        end\n",
    "    end\n",
    "#    L1 = Array{Float64}(undef, 2, 2)\n",
    "    for n in 1:2\n",
    "        for j in 1:2\n",
    "            L1[n, j] = sum(μ_0[i, k, n, j]*L0[i, k] for i in 1:2, k in 1:2)\n",
    "        end\n",
    "    end\n",
    "#    ẇn = Array{Float64}(undef, 2, 2)\n",
    "    while !all(0.99*ẇ .<= ẇn .<= 1.01*ẇ)\n",
    "\n",
    "#        Ṗ = Array{Float64}(undef, 2, 2)\n",
    "        for n in 1:2\n",
    "            for i in 1:2\n",
    "                for j in 1:2\n",
    "                    Ṗ[n, j] = (sum(π0[n, j, i, j]*((ẇ[i, j]*κdot[n, j, i, j])^(-θ_list[j]))*((Ȧ[i, j])^θ_list[j]) for i in 1:2))^(-1/θ_list[j])\n",
    "                end\n",
    "            end\n",
    "        end\n",
    "#        π1 = Array{Float64}(undef, 2, 2, 2, 2)\n",
    "        for n in 1:2\n",
    "            for i in 1:2\n",
    "                for j in 1:2\n",
    "                    π1[n, j, i, j] = π0[n, j, i, j]*(((ẇ[i, j]*κdot[n, j, i, j])/Ṗ[n, j])^(-θ_list[j]))*((Ȧ[i,j])^θ_list[j])\n",
    "                end\n",
    "            end\n",
    "        end\n",
    "        for i in 1:2\n",
    "            for j in 1:2\n",
    "                X[i, j] = w0[i, j]*L0[i, j]\n",
    "            end\n",
    "        end\n",
    "        for i in 1:2\n",
    "            α[i] = sum(X[k, i] for k in 1:2)/sum(X[j, l] for j in 1:2, l in 1:2)\n",
    "        end\n",
    "#        Xt1 = Array{Float64}(undef, 2, 2)\n",
    "        for n in 1:2\n",
    "            for j in 1:2\n",
    "                Xt1[n, j] = α[j]*sum(ẇ[n, k]*L1[n, k]*w0[n, k] for k in 1:2)\n",
    "            end\n",
    "        end\n",
    "        for n in 1:2\n",
    "            for j in 1:2\n",
    "                ẇn[n, j] = sum(π1[i, j, n, j]*Xt1[i, j] for i in 1:2)/(L1[n, j]*w0[n, j])\n",
    "            end\n",
    "        end\n",
    "        ẇ = ẇn\n",
    "    end\n",
    "    u̇_1t = Array{Float64}(undef, 2, 2)\n",
    "    for n in 1:2\n",
    "        for j in 1:2\n",
    "            u̇_1t[n, j] = ẇ[n, j]*(sum(μ_0[n, j, i, k]*(u̇_0t[i, k, 2])^(β/ν) for i in 1:2, k in 1:2))^(ν)\n",
    "        end\n",
    "    end\n",
    "    \n",
    "    global u̇_0t[:, :, 1] = u̇_1t\n",
    "end "
   ]
  },
  {
   "cell_type": "code",
   "execution_count": null,
   "id": "7df633c5",
   "metadata": {},
   "outputs": [],
   "source": [
    "u̇_0t"
   ]
  }
 ],
 "metadata": {
  "kernelspec": {
   "display_name": "Julia 1.8.5",
   "language": "julia",
   "name": "julia-1.8"
  },
  "language_info": {
   "file_extension": ".jl",
   "mimetype": "application/julia",
   "name": "julia",
   "version": "1.8.5"
  }
 },
 "nbformat": 4,
 "nbformat_minor": 5
}
