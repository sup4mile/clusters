{
 "cells": [
  {
   "cell_type": "code",
   "execution_count": null,
   "id": "825b4d8d",
   "metadata": {},
   "outputs": [],
   "source": [
    "μ_min1 = Array{Float64}(undef, 2, 2, 2, 2)\n",
    "π0 = Array{Float64}(undef, 2 ,2 , 2, 2)\n",
    "β = 0.8\n",
    "ν = 1.1"
   ]
  },
  {
   "cell_type": "code",
   "execution_count": null,
   "id": "5e262b18",
   "metadata": {},
   "outputs": [],
   "source": [
    "using Random\n",
    "Random.seed!(123)"
   ]
  },
  {
   "cell_type": "code",
   "execution_count": null,
   "id": "6c4dc25a",
   "metadata": {},
   "outputs": [],
   "source": [
    "for i in 1:2\n",
    "    for j in 1:2\n",
    "        matrix = rand(2, 2)\n",
    "        matrix2 = matrix/sum(matrix)\n",
    "        μ_min1[i, j, :, :] = matrix2\n",
    "    end\n",
    "end\n",
    "μ_min1"
   ]
  },
  {
   "cell_type": "code",
   "execution_count": null,
   "id": "d6ee303f",
   "metadata": {},
   "outputs": [],
   "source": [
    "for i in 1:2\n",
    "    for j in 1:2\n",
    "        matrix = rand(2, 2)\n",
    "        matrix2 = matrix/sum(matrix)\n",
    "        π0[i, j, :, :] = matrix2\n",
    "    end\n",
    "end\n",
    "π0"
   ]
  },
  {
   "cell_type": "code",
   "execution_count": null,
   "id": "f821fb1f",
   "metadata": {},
   "outputs": [],
   "source": [
    "κdot = rand(0.95:0.001:1.08, (2, 2, 2, 2))"
   ]
  },
  {
   "cell_type": "code",
   "execution_count": null,
   "id": "7c7e3b5f",
   "metadata": {},
   "outputs": [],
   "source": [
    "Ȧ = rand(0.98:0.001:1.05, (2, 2))"
   ]
  },
  {
   "cell_type": "code",
   "execution_count": null,
   "id": "e99b3acb",
   "metadata": {},
   "outputs": [],
   "source": [
    "L_setup_matrix = rand(2, 2)\n",
    "L0 = L_setup_matrix/sum(L_setup_matrix)"
   ]
  },
  {
   "cell_type": "code",
   "execution_count": null,
   "id": "8a0a6bb5",
   "metadata": {},
   "outputs": [],
   "source": [
    "w0 = rand(0.5:0.001:1.5, (2, 2))"
   ]
  },
  {
   "cell_type": "code",
   "execution_count": null,
   "id": "19f3739b",
   "metadata": {},
   "outputs": [],
   "source": [
    "using Distributions\n",
    "θ_var = Frechet()\n",
    "θ_list = rand(θ_var, 2)"
   ]
  },
  {
   "cell_type": "code",
   "execution_count": null,
   "id": "966afe2f",
   "metadata": {},
   "outputs": [],
   "source": [
    "u̇_0t = rand(0.96:0.001:1.04, (2, 2, 2))\n",
    "# here, u̇_0t is the the initial guess for u̇ in both the time periods, where u̇_0t[:, :, 1] is for the first time period\n",
    "# and u̇_0t[:, :, 2] is for the second time period."
   ]
  },
  {
   "cell_type": "code",
   "execution_count": null,
   "id": "09d6c7c0",
   "metadata": {},
   "outputs": [],
   "source": [
    "ẇ = rand(0.96:0.001:1.04, (2, 2))"
   ]
  },
  {
   "cell_type": "code",
   "execution_count": null,
   "id": "2771ce9b",
   "metadata": {},
   "outputs": [],
   "source": [
    "μ_0 = Array{Float64}(undef, 2, 2, 2, 2)\n",
    "L1 = Array{Float64}(undef, 2, 2)\n",
    "ẇn = Array{Float64}(undef, 2, 2)#This is going to be our updated wage change guess.\n",
    "Ṗ = Array{Float64}(undef, 2, 2)\n",
    "π1 = Array{Float64}(undef, 2, 2, 2, 2)\n",
    "X = Array{Float64}(undef, 2, 2)\n",
    "α = Array{Float64}(undef, 2)\n",
    "Xt1 = Array{Float64}(undef, 2, 2)\n",
    "ẇ_old = Array{Float64}(undef, 2, 2)\n",
    "u̇_0t_old = Array{Float64}(undef, 2, 2) #This variable will be used to store the initial starting value of u̇_0t\n",
    "u̇_1t = Array{Float64}(undef, 2, 2)#here, u̇_1t is our updated guess for u̇_0t[:, :, 1], that is u̇_0t in the first period."
   ]
  },
  {
   "cell_type": "code",
   "execution_count": null,
   "id": "f47a94cf",
   "metadata": {},
   "outputs": [],
   "source": [
    "while !all(0.99 .*u̇_0t[:, :, 1] .<= u̇_0t_old .<= u̇_0t[:, :, 1] )\n",
    "    println(\"NEXT ITERATION STARTS\")\n",
    "    println(\"u̇_0t at the beginning of the new iteration\")\n",
    "    println(u̇_0t)\n",
    "    println(\"old u̇_0t\")\n",
    "    println(u̇_0t_old)\n",
    "    u̇_0t_old .= deepcopy(u̇_0t[:, :, 1]) # updating u̇_0t_old\n",
    "    println(\"u̇_0t_old updated\")\n",
    "    println(u̇_0t_old)\n",
    "    for n in 1:2\n",
    "        for j in 1:2\n",
    "            for i in 1:2\n",
    "                for k in 1:2\n",
    "                    denom = sum(μ_min1[n, j, m, h]*((u̇_0t[m, h, 2])^(β/ν)) for m in 1:2, h in 1:2)\n",
    "                    numer = (μ_min1[n, j, i, k]*((u̇_0t[i, k, 2])^(β/ν)))\n",
    "                    μ_0[n, j, i, k] = numer/denom\n",
    "                end\n",
    "            end\n",
    "        end\n",
    "    end\n",
    "    println(\"μ_0\")\n",
    "    println(μ_0)\n",
    "    for n in 1:2\n",
    "        for j in 1:2\n",
    "            L1[n, j] = sum(μ_0[i, k, n, j]*L0[i, k] for i in 1:2, k in 1:2)\n",
    "        end\n",
    "    end\n",
    "    println(\"L1\")\n",
    "    println(L1)\n",
    "    println(\"ẇ_old before the loop starts\")\n",
    "    println(ẇ_old)\n",
    "    println(\"ẇ before the loop starts\")\n",
    "    println(ẇ)\n",
    "    while !all(0.99*ẇ .<= ẇ_old .<= 1.01*ẇ)\n",
    "        println(\":::::::::::::::::::::::::::::::::::::::::::::::::::::::::::::::::::::::::::::::::::::::::::\")\n",
    "        println(\"INNER LOOP STARTS\")\n",
    "        ẇ_old .= deepcopy(ẇ)\n",
    "        println(\"ẇ_old updated\")\n",
    "        println(ẇ_old)\n",
    "        for n in 1:2\n",
    "            for i in 1:2\n",
    "                for j in 1:2\n",
    "                    Ṗ[n, j] = (sum(π0[n, j, i, j]*((ẇ[i, j]*κdot[n, j, i, j])^(-θ_list[j]))*((Ȧ[i, j])^θ_list[j]) for i in 1:2))^(-1/θ_list[j])   \n",
    "                end\n",
    "            end\n",
    "        end\n",
    "        println(\"Ṗ\")\n",
    "        println(Ṗ)\n",
    "        for n in 1:2\n",
    "            for i in 1:2\n",
    "                for j in 1:2\n",
    "                    π1[n, j, i, j] = π0[n, j, i, j]*(((ẇ[i, j]*κdot[n, j, i, j])/Ṗ[n, j])^(-θ_list[j]))*((Ȧ[i,j])^θ_list[j])\n",
    "                end\n",
    "            end\n",
    "        end\n",
    "        println(\"π1\")\n",
    "        println(π1)\n",
    "        for i in 1:2\n",
    "            for j in 1:2\n",
    "                X[i, j] = w0[i, j]*L0[i, j]\n",
    "            end\n",
    "        end\n",
    "        println(\"X\")\n",
    "        println(X)\n",
    "        for i in 1:2\n",
    "            α[i] = sum(X[k, i] for k in 1:2)/sum(X[j, l] for j in 1:2, l in 1:2)\n",
    "        end\n",
    "        println(\"α\")\n",
    "        println(α)\n",
    "        for n in 1:2\n",
    "            for j in 1:2\n",
    "                Xt1[n, j] = α[j]*sum(ẇ[n, k]*L1[n, k]*w0[n, k] for k in 1:2)\n",
    "            end\n",
    "        end\n",
    "        for n in 1:2\n",
    "            for j in 1:2\n",
    "                ẇn[n, j] = sum(π1[i, j, n, j]*Xt1[i, j] for i in 1:2)/(L1[n, j]*w0[n, j])\n",
    "            end\n",
    "        end\n",
    "        println(\"ẇn at the end of inner loop\")\n",
    "        println(ẇn)\n",
    "        ẇ .= ẇn\n",
    "        println(\"ẇ reassigned\")\n",
    "        println(ẇ)\n",
    "        println(\"INNER LOOP ENDS\")\n",
    "        println(\":::::::::::::::::::::::::::::::::::::::::::::::::::::::::::::::::::::::::::::::::::::\")\n",
    "    end\n",
    "    println(\"ẇn after the loop ends\")\n",
    "    println(ẇn)\n",
    "    println(\"ẇ after the loop ends\")\n",
    "    println(ẇ)\n",
    "    for n in 1:2\n",
    "        for j in 1:2\n",
    "            u̇_1t[n, j] = ẇ[n, j]*(sum(μ_0[n, j, i, k]*(u̇_0t[i, k, 2])^(β/ν) for i in 1:2, k in 1:2))^(ν)\n",
    "        end\n",
    "    end\n",
    "    println(\"u̇_0t before the loop\")\n",
    "    println(u̇_0t)\n",
    "    println(\"u̇_1t\")\n",
    "    println(u̇_1t)\n",
    "    # HERE FIRST STORE VALUE OF INITIAL UDOT FROM THE SECOND PERIOD INTO \n",
    "    u̇_0t[:, :, 1] .= u̇_1t\n",
    "    println(\"u̇_0t updated and here it is after the loop\")\n",
    "    println(u̇_0t)\n",
    "    println(\"ITERATION ENDS\")\n",
    "    println(\"------------------------------------------------------------------------------------------------\")\n",
    "    println(\"------------------------------------------------------------------------------------------------\")\n",
    "    println(\"------------------------------------------------------------------------------------------------\")\n",
    "end "
   ]
  },
  {
   "cell_type": "code",
   "execution_count": null,
   "id": "884c49b9",
   "metadata": {},
   "outputs": [],
   "source": []
  }
 ],
 "metadata": {
  "kernelspec": {
   "display_name": "Julia 1.8.5",
   "language": "julia",
   "name": "julia-1.8"
  },
  "language_info": {
   "file_extension": ".jl",
   "mimetype": "application/julia",
   "name": "julia",
   "version": "1.8.5"
  }
 },
 "nbformat": 4,
 "nbformat_minor": 5
}
