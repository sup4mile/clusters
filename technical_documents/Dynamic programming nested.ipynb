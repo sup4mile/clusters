{
 "cells": [
  {
   "cell_type": "code",
   "execution_count": 14,
   "id": "825b4d8d",
   "metadata": {},
   "outputs": [
    {
     "data": {
      "text/plain": [
       "1.1"
      ]
     },
     "execution_count": 14,
     "metadata": {},
     "output_type": "execute_result"
    },
    {
     "data": {
      "text/plain": [
       "1.1"
      ]
     },
     "execution_count": 14,
     "metadata": {},
     "output_type": "execute_result"
    }
   ],
   "source": [
    "μ_min1 = Array{Float64}(undef, 2, 2, 2, 2)\n",
    "π0 = Array{Float64}(undef, 2 ,2 , 2, 2)\n",
    "β = 0.8\n",
    "ν = 1.1"
   ]
  },
  {
   "cell_type": "code",
   "execution_count": 15,
   "id": "5e262b18",
   "metadata": {},
   "outputs": [
    {
     "data": {
      "text/plain": [
       "TaskLocalRNG()"
      ]
     },
     "execution_count": 15,
     "metadata": {},
     "output_type": "execute_result"
    },
    {
     "data": {
      "text/plain": [
       "TaskLocalRNG()"
      ]
     },
     "execution_count": 15,
     "metadata": {},
     "output_type": "execute_result"
    }
   ],
   "source": [
    "using Random\n",
    "Random.seed!(123)"
   ]
  },
  {
   "cell_type": "code",
   "execution_count": 16,
   "id": "6c4dc25a",
   "metadata": {},
   "outputs": [
    {
     "data": {
      "text/plain": [
       "2×2×2×2 Array{Float64, 4}:\n",
       "[:, :, 1, 1] =\n",
       " 0.238018  0.277479\n",
       " 0.255638  0.0421295\n",
       "\n",
       "[:, :, 2, 1] =\n",
       " 0.267972  0.206178\n",
       " 0.144093  0.479114\n",
       "\n",
       "[:, :, 1, 2] =\n",
       " 0.40683   0.0236579\n",
       " 0.232052  0.373495\n",
       "\n",
       "[:, :, 2, 2] =\n",
       " 0.0871797  0.492685\n",
       " 0.368217   0.105261"
      ]
     },
     "execution_count": 16,
     "metadata": {},
     "output_type": "execute_result"
    },
    {
     "data": {
      "text/plain": [
       "2×2×2×2 Array{Float64, 4}:\n",
       "[:, :, 1, 1] =\n",
       " 0.238018  0.277479\n",
       " 0.255638  0.0421295\n",
       "\n",
       "[:, :, 2, 1] =\n",
       " 0.267972  0.206178\n",
       " 0.144093  0.479114\n",
       "\n",
       "[:, :, 1, 2] =\n",
       " 0.40683   0.0236579\n",
       " 0.232052  0.373495\n",
       "\n",
       "[:, :, 2, 2] =\n",
       " 0.0871797  0.492685\n",
       " 0.368217   0.105261"
      ]
     },
     "execution_count": 16,
     "metadata": {},
     "output_type": "execute_result"
    }
   ],
   "source": [
    "for i in 1:2\n",
    "    for j in 1:2\n",
    "        matrix = rand(2, 2)\n",
    "        matrix2 = matrix/sum(matrix)\n",
    "        μ_min1[i, j, :, :] = matrix2\n",
    "    end\n",
    "end\n",
    "μ_min1"
   ]
  },
  {
   "cell_type": "code",
   "execution_count": 17,
   "id": "d6ee303f",
   "metadata": {},
   "outputs": [
    {
     "data": {
      "text/plain": [
       "2×2×2×2 Array{Float64, 4}:\n",
       "[:, :, 1, 1] =\n",
       " 0.31954  0.116465\n",
       " 0.41648  0.314584\n",
       "\n",
       "[:, :, 2, 1] =\n",
       " 0.25454  0.414087\n",
       " 0.14425  0.484241\n",
       "\n",
       "[:, :, 1, 2] =\n",
       " 0.294853   0.370912\n",
       " 0.0965257  0.139731\n",
       "\n",
       "[:, :, 2, 2] =\n",
       " 0.131067  0.0985356\n",
       " 0.342745  0.0614439"
      ]
     },
     "execution_count": 17,
     "metadata": {},
     "output_type": "execute_result"
    },
    {
     "data": {
      "text/plain": [
       "2×2×2×2 Array{Float64, 4}:\n",
       "[:, :, 1, 1] =\n",
       " 0.31954  0.116465\n",
       " 0.41648  0.314584\n",
       "\n",
       "[:, :, 2, 1] =\n",
       " 0.25454  0.414087\n",
       " 0.14425  0.484241\n",
       "\n",
       "[:, :, 1, 2] =\n",
       " 0.294853   0.370912\n",
       " 0.0965257  0.139731\n",
       "\n",
       "[:, :, 2, 2] =\n",
       " 0.131067  0.0985356\n",
       " 0.342745  0.0614439"
      ]
     },
     "execution_count": 17,
     "metadata": {},
     "output_type": "execute_result"
    }
   ],
   "source": [
    "for i in 1:2\n",
    "    for j in 1:2\n",
    "        matrix = rand(2, 2)\n",
    "        matrix2 = matrix/sum(matrix)\n",
    "        π0[i, j, :, :] = matrix2\n",
    "    end\n",
    "end\n",
    "π0"
   ]
  },
  {
   "cell_type": "code",
   "execution_count": 18,
   "id": "f821fb1f",
   "metadata": {},
   "outputs": [
    {
     "data": {
      "text/plain": [
       "2×2×2×2 Array{Float64, 4}:\n",
       "[:, :, 1, 1] =\n",
       " 1.026  0.965\n",
       " 0.99   0.976\n",
       "\n",
       "[:, :, 2, 1] =\n",
       " 1.0    0.959\n",
       " 0.952  1.069\n",
       "\n",
       "[:, :, 1, 2] =\n",
       " 1.0    0.999\n",
       " 1.051  1.064\n",
       "\n",
       "[:, :, 2, 2] =\n",
       " 0.984  1.063\n",
       " 1.068  1.045"
      ]
     },
     "execution_count": 18,
     "metadata": {},
     "output_type": "execute_result"
    },
    {
     "data": {
      "text/plain": [
       "2×2×2×2 Array{Float64, 4}:\n",
       "[:, :, 1, 1] =\n",
       " 1.026  0.965\n",
       " 0.99   0.976\n",
       "\n",
       "[:, :, 2, 1] =\n",
       " 1.0    0.959\n",
       " 0.952  1.069\n",
       "\n",
       "[:, :, 1, 2] =\n",
       " 1.0    0.999\n",
       " 1.051  1.064\n",
       "\n",
       "[:, :, 2, 2] =\n",
       " 0.984  1.063\n",
       " 1.068  1.045"
      ]
     },
     "execution_count": 18,
     "metadata": {},
     "output_type": "execute_result"
    }
   ],
   "source": [
    "κdot = rand(0.95:0.001:1.08, (2, 2, 2, 2))"
   ]
  },
  {
   "cell_type": "code",
   "execution_count": 19,
   "id": "7c7e3b5f",
   "metadata": {},
   "outputs": [
    {
     "data": {
      "text/plain": [
       "2×2 Matrix{Float64}:\n",
       " 0.987  1.037\n",
       " 1.021  0.995"
      ]
     },
     "execution_count": 19,
     "metadata": {},
     "output_type": "execute_result"
    },
    {
     "data": {
      "text/plain": [
       "2×2 Matrix{Float64}:\n",
       " 0.987  1.037\n",
       " 1.021  0.995"
      ]
     },
     "execution_count": 19,
     "metadata": {},
     "output_type": "execute_result"
    }
   ],
   "source": [
    "Ȧ = rand(0.98:0.001:1.05, (2, 2))"
   ]
  },
  {
   "cell_type": "code",
   "execution_count": 20,
   "id": "e99b3acb",
   "metadata": {},
   "outputs": [
    {
     "data": {
      "text/plain": [
       "2×2 Matrix{Float64}:\n",
       " 0.303201  0.23899\n",
       " 0.132584  0.325225"
      ]
     },
     "execution_count": 20,
     "metadata": {},
     "output_type": "execute_result"
    },
    {
     "data": {
      "text/plain": [
       "2×2 Matrix{Float64}:\n",
       " 0.303201  0.23899\n",
       " 0.132584  0.325225"
      ]
     },
     "execution_count": 20,
     "metadata": {},
     "output_type": "execute_result"
    }
   ],
   "source": [
    "L_setup_matrix = rand(2, 2)\n",
    "L0 = L_setup_matrix/sum(L_setup_matrix)"
   ]
  },
  {
   "cell_type": "code",
   "execution_count": 21,
   "id": "8a0a6bb5",
   "metadata": {},
   "outputs": [
    {
     "data": {
      "text/plain": [
       "2×2 Matrix{Float64}:\n",
       " 1.207  1.379\n",
       " 1.196  0.917"
      ]
     },
     "execution_count": 21,
     "metadata": {},
     "output_type": "execute_result"
    },
    {
     "data": {
      "text/plain": [
       "2×2 Matrix{Float64}:\n",
       " 1.207  1.379\n",
       " 1.196  0.917"
      ]
     },
     "execution_count": 21,
     "metadata": {},
     "output_type": "execute_result"
    }
   ],
   "source": [
    "w0 = rand(0.5:0.001:1.5, (2, 2))"
   ]
  },
  {
   "cell_type": "code",
   "execution_count": 22,
   "id": "19f3739b",
   "metadata": {},
   "outputs": [
    {
     "data": {
      "text/plain": [
       "2-element Vector{Float64}:\n",
       " 8.406813510366845\n",
       " 2.4055503080991634"
      ]
     },
     "execution_count": 22,
     "metadata": {},
     "output_type": "execute_result"
    },
    {
     "data": {
      "text/plain": [
       "2-element Vector{Float64}:\n",
       " 8.406813510366845\n",
       " 2.4055503080991634"
      ]
     },
     "execution_count": 22,
     "metadata": {},
     "output_type": "execute_result"
    }
   ],
   "source": [
    "using Distributions\n",
    "θ_var = Frechet()\n",
    "θ_list = rand(θ_var, 2)"
   ]
  },
  {
   "cell_type": "code",
   "execution_count": 23,
   "id": "966afe2f",
   "metadata": {},
   "outputs": [
    {
     "data": {
      "text/plain": [
       "2×2×2 Array{Float64, 3}:\n",
       "[:, :, 1] =\n",
       " 1.007  0.997\n",
       " 1.005  1.026\n",
       "\n",
       "[:, :, 2] =\n",
       " 1.006  1.003\n",
       " 1.025  1.022"
      ]
     },
     "execution_count": 23,
     "metadata": {},
     "output_type": "execute_result"
    },
    {
     "data": {
      "text/plain": [
       "2×2×2 Array{Float64, 3}:\n",
       "[:, :, 1] =\n",
       " 1.007  0.997\n",
       " 1.005  1.026\n",
       "\n",
       "[:, :, 2] =\n",
       " 1.006  1.003\n",
       " 1.025  1.022"
      ]
     },
     "execution_count": 23,
     "metadata": {},
     "output_type": "execute_result"
    }
   ],
   "source": [
    "u̇_0t = rand(0.96:0.001:1.04, (2, 2, 2))\n",
    "# here, u̇_0t is the the initial guess for u̇ in both the time periods, where u̇_0t[:, :, 1] is for the first time period\n",
    "# and u̇_0t[:, :, 2] is for the second time period."
   ]
  },
  {
   "cell_type": "code",
   "execution_count": 24,
   "id": "09d6c7c0",
   "metadata": {},
   "outputs": [
    {
     "data": {
      "text/plain": [
       "2×2 Matrix{Float64}:\n",
       " 0.965  1.028\n",
       " 1.035  1.024"
      ]
     },
     "execution_count": 24,
     "metadata": {},
     "output_type": "execute_result"
    },
    {
     "data": {
      "text/plain": [
       "2×2 Matrix{Float64}:\n",
       " 0.965  1.028\n",
       " 1.035  1.024"
      ]
     },
     "execution_count": 24,
     "metadata": {},
     "output_type": "execute_result"
    }
   ],
   "source": [
    "ẇ = rand(0.96:0.001:1.04, (2, 2))"
   ]
  },
  {
   "cell_type": "code",
   "execution_count": 25,
   "id": "2771ce9b",
   "metadata": {},
   "outputs": [
    {
     "data": {
      "text/plain": [
       "2×2 Matrix{Float64}:\n",
       " 1.00971e-311  NaN\n",
       " 3.5093e-320     0.0"
      ]
     },
     "execution_count": 25,
     "metadata": {},
     "output_type": "execute_result"
    },
    {
     "data": {
      "text/plain": [
       "2×2 Matrix{Float64}:\n",
       " 1.00971e-311  NaN\n",
       " 3.5093e-320     0.0"
      ]
     },
     "execution_count": 25,
     "metadata": {},
     "output_type": "execute_result"
    }
   ],
   "source": [
    "μ_0 = Array{Float64}(undef, 2, 2, 2, 2)\n",
    "L1 = Array{Float64}(undef, 2, 2)\n",
    "ẇn = Array{Float64}(undef, 2, 2)#This is going to be our updated wage change guess.\n",
    "Ṗ = Array{Float64}(undef, 2, 2)\n",
    "π1 = Array{Float64}(undef, 2, 2, 2, 2)\n",
    "X = Array{Float64}(undef, 2, 2)\n",
    "α = Array{Float64}(undef, 2)\n",
    "Xt1 = Array{Float64}(undef, 2, 2)\n",
    "u̇_1t = Array{Float64}(undef, 2, 2)#here, u̇_1t is our updated guess for u̇_0t[:, :, 1], that is u̇_0t in the first period."
   ]
  },
  {
   "cell_type": "code",
   "execution_count": 26,
   "id": "b3cae945",
   "metadata": {},
   "outputs": [
    {
     "name": "stdout",
     "output_type": "stream",
     "text": [
      "NEXT ITERATION STARTS\n",
      "u̇_0t at the beginning of the new iteration\n",
      "[1.007 0.997; 1.005 1.026;;; 1.006 1.003; 1.025 1.022]\n",
      "denom\n",
      "1.0081715562416365\n",
      "numer\n",
      "0.23905603454924615\n",
      "denom\n",
      "1.0081715562416365\n",
      "numer\n",
      "0.4077172405327442\n",
      "denom\n",
      "1.0081715562416365\n",
      "numer\n",
      "0.27282781803189665\n",
      "denom\n",
      "1.0081715562416365\n",
      "numer\n",
      "0.08857046312774952\n",
      "denom\n",
      "1.0128570010566391\n",
      "numer\n",
      "0.27868887208668286\n",
      "denom\n",
      "1.0128570010566391\n",
      "numer\n",
      "0.023709474852711247\n",
      "denom\n",
      "1.0128570010566391\n",
      "numer\n",
      "0.20991412270155926\n",
      "denom\n",
      "1.0128570010566391\n",
      "numer\n",
      "0.5005445314156859\n",
      "denom\n",
      "1.0101056782895528\n",
      "numer\n",
      "0.2567527641280955\n",
      "denom\n",
      "1.0101056782895528\n",
      "numer\n",
      "0.23255837052301573\n",
      "denom\n",
      "1.0101056782895528\n",
      "numer\n",
      "0.1467037904442507\n",
      "denom\n",
      "1.0101056782895528\n",
      "numer\n",
      "0.3740907531941908\n",
      "denom\n",
      "1.0113592080041027\n",
      "numer\n",
      "0.042313198526663785\n",
      "denom\n",
      "1.0113592080041027\n",
      "numer\n",
      "NEXT ITERATION STARTS\n",
      "u̇_0t at the beginning of the new iteration\n",
      "[1.007 0.997; 1.005 1.026;;; 1.006 1.003; 1.025 1.022]\n",
      "denom\n",
      "1.0081715562416365\n",
      "numer\n",
      "0.23905603454924615\n",
      "denom\n",
      "1.0081715562416365\n",
      "numer\n",
      "0.4077172405327442\n",
      "denom\n",
      "1.0081715562416365\n",
      "numer\n",
      "0.27282781803189665\n",
      "denom\n",
      "1.0081715562416365\n",
      "numer\n",
      "0.08857046312774952\n",
      "denom\n",
      "1.0128570010566391\n",
      "numer\n",
      "0.27868887208668286\n",
      "denom\n",
      "1.0128570010566391\n",
      "numer\n",
      "0.023709474852711247\n",
      "denom\n",
      "1.0128570010566391\n",
      "numer\n",
      "0.20991412270155926\n",
      "denom\n",
      "1.0128570010566391\n",
      "numer\n",
      "0.5005445314156859\n",
      "denom\n",
      "1.0101056782895528\n",
      "numer\n",
      "0.2567527641280955\n",
      "denom\n",
      "1.0101056782895528\n",
      "numer\n",
      "0.23255837052301573\n",
      "denom\n",
      "1.0101056782895528\n",
      "numer\n",
      "0.1467037904442507\n",
      "denom\n",
      "1.0101056782895528\n",
      "numer\n",
      "0.3740907531941908\n",
      "denom\n",
      "1.0113592080041027\n",
      "numer\n",
      "0.042313198526663785\n",
      "denom\n",
      "1.0113592080041027\n",
      "numer\n",
      "0.3743095995252877\n",
      "denom\n",
      "1.0113592080041027\n",
      "numer\n",
      "0.48779600948570045\n",
      "denom\n",
      "1.0113592080041027\n",
      "numer\n",
      "0.1069404004664506\n",
      "μ_0\n",
      "[0.2371184081411931 0.27515125214709213; 0.2541840617734809 0.041837952521506225;;; 0.27061646040577825 0.20724951546227288; 0.14523608133029145 0.48231726732221697;;;; 0.4044125605493907 0.0234085115944076; 0.23023172280034593 0.3701054942328357;;; 0.08785257090363809 0.49419072079622756; 0.37034813409588163 0.10573928592344095]\n",
      "L1\n",
      "[0.1849604754569752 0.2791053777287892; 0.3076992722275831 0.22823487458665237]\n",
      "ẇn before the loop starts\n",
      "[1.009710356464e-311 NaN; 3.1956e-320 0.0]\n",
      "ẇ before the loop starts\n",
      "[0.965 1.028; 1.035 1.024]\n",
      "inner loop starts0.3743095995252877\n",
      "denom\n",
      "1.0113592080041027\n",
      "numer\n",
      "0.48779600948570045\n",
      "denom\n",
      "1.0113592080041027\n",
      "numer\n",
      "0.1069404004664506\n",
      "μ_0\n",
      "[0.2371184081411931 0.27515125214709213; 0.2541840617734809 0.041837952521506225;;; 0.27061646040577825 0.20724951546227288; 0.14523608133029145 0.48231726732221697;;;; 0.4044125605493907 0.0234085115944076; 0.23023172280034593 0.3701054942328357;;; 0.08785257090363809 0.49419072079622756; 0.37034813409588163 0.10573928592344095]\n",
      "L1\n",
      "[0.1849604754569752 0.2791053777287892; 0.3076992722275831 0.22823487458665237]\n",
      "ẇn before the loop starts\n",
      "[1.009710356464e-311 NaN; 3.1956e-320 0.0]\n",
      "ẇ before the loop starts\n",
      "[0.965 1.028; 1.035 1.024]\n",
      "inner loop starts\n",
      "Ṗ\n",
      "[1.0764631221624843 1.382158456481744; 1.0360852275150378 2.0663279591505486]\n",
      "π1\n",
      "[0.5782616054876154 1.009710542786e-311; 0.737931744793916 1.0097105428016e-311;;; 0.4217383945123848 1.0097105428333e-311; 0.262068255206084 1.009710542849e-311;;;; 1.009710542865e-311 0.8270696858311883; 1.0097105428965e-311 0.7043980769355936;;; 1.009710542928e-311 0.1729303141688117; 1.009710542944e-311 0.2956019230644064]\n",
      "X\n",
      "[0.365963975263101 0.32956673221395655; 0.1585708736945235 0.29823104881129786]\n",
      "Ṗ\n",
      "[1.0764631221624843 1.382158456481744; 1.0360852275150378 2.0663279591505486]\n",
      "π1\n",
      "[0.5782616054876154 1.009710542786e-311; 0.737931744793916 1.0097105428016e-311;;; 0.4217383945123848 1.0097105428333e-311; 0.262068255206084 1.009710542849e-311;;;; 1.009710542865e-311 0.8270696858311883; 1.0097105428965e-311 0.7043980769355936;;; 1.009710542928e-311 0.1729303141688117; 1.009710542944e-311 0.2956019230644064]\n",
      "X\n",
      "[0.365963975263101 0.32956673221395655; 0.1585708736945235 0.29823104881129786]\n",
      "α\n",
      "[0.4551939564233444, 0.5448060435766555]\n",
      "\n",
      "α\n",
      "[0.4551939564233444, 0.5448060435766555]\n",
      "ẇn at the end of inner loop\n",
      "[1.616071263475469 1.308882485415003; 0.5117189245353793 0.7330853516424574]\n",
      "ẇ reassigned\n",
      "[1.616071263475469 1.308882485415003; 0.5117189245353793 0.7330853516424574]\n",
      "inner loop ends\n",
      "ẇn after the loop ends\n",
      "[1.616071263475469 1.308882485415003; 0.5117189245353793 0.7330853516424574]\n",
      "ẇ after the loop ends\n",
      "[1.616071263475469 1.308882485415003; 0.5117189245353793 0.7330853516424574]\n",
      "u̇_0t before the loop\n",
      "[1.007 0.997; 1.005 1.026;;; 1.006 1.003; 1.025 1.022]\n",
      "u̇_1t\n",
      "[1.6306915718327488 1.3274526743879222; 0.5174352051696661 0.7422965515856496]\n",
      "u̇_0t updated and here it is after the loop\n",
      "[1.6306915718327488 1.3274526743879222; 0.5174352051696661 0.7422965515856496;;; 1.006 1.003; 1.025 1.022]\n",
      "ITERATION ENDS\n",
      "------------------------------------------------------------------------------------------------\n",
      "------------------------------------------------------------------------------------------------\n",
      "------------------------------------------------------------------------------------------------\n",
      "ẇn at the end of inner loop\n",
      "[1.616071263475469 1.308882485415003; 0.5117189245353793 0.7330853516424574]\n",
      "ẇ reassigned\n",
      "[1.616071263475469 1.308882485415003; 0.5117189245353793 0.7330853516424574]\n",
      "inner loop ends\n",
      "ẇn after the loop ends\n",
      "[1.616071263475469 1.308882485415003; 0.5117189245353793 0.7330853516424574]\n",
      "ẇ after the loop ends\n",
      "[1.616071263475469 1.308882485415003; 0.5117189245353793 0.7330853516424574]\n",
      "u̇_0t before the loop\n",
      "[1.007 0.997; 1.005 1.026;;; 1.006 1.003; 1.025 1.022]\n",
      "u̇_1t\n",
      "[1.6306915718327488 1.3274526743879222; 0.5174352051696661 0.7422965515856496]\n",
      "u̇_0t updated and here it is after the loop\n",
      "[1.6306915718327488 1.3274526743879222; 0.5174352051696661 0.7422965515856496;;; 1.006 1.003; 1.025 1.022]\n",
      "ITERATION ENDS\n",
      "------------------------------------------------------------------------------------------------\n",
      "------------------------------------------------------------------------------------------------\n",
      "------------------------------------------------------------------------------------------------\n"
     ]
    }
   ],
   "source": [
    "while !all(0.99 .*u̇_0t[:, :, 1] .<= u̇_1t .<= u̇_0t[:, :, 1] )\n",
    "    println(\"NEXT ITERATION STARTS\")\n",
    "    println(\"u̇_0t at the beginning of the new iteration\")\n",
    "    println(u̇_0t)\n",
    "    for n in 1:2\n",
    "        for j in 1:2\n",
    "            for i in 1:2\n",
    "                for k in 1:2\n",
    "                    denom = sum(μ_min1[n, j, m, h]*((u̇_0t[m, h, 2])^(β/ν)) for m in 1:2, h in 1:2)\n",
    "                    println(\"denom\")\n",
    "                    println(denom)\n",
    "                    numer = (μ_min1[n, j, i, k]*((u̇_0t[i, k, 2])^(β/ν)))\n",
    "                    println(\"numer\")\n",
    "                    println(numer)\n",
    "                    μ_0[n, j, i, k] = numer/denom\n",
    "                end\n",
    "            end\n",
    "        end\n",
    "    end\n",
    "    println(\"μ_0\")\n",
    "    println(μ_0)\n",
    "    for n in 1:2\n",
    "        for j in 1:2\n",
    "            L1[n, j] = sum(μ_0[i, k, n, j]*L0[i, k] for i in 1:2, k in 1:2)\n",
    "        end\n",
    "    end\n",
    "    println(\"L1\")\n",
    "    println(L1)\n",
    "    println(\"ẇn before the loop starts\")\n",
    "    println(ẇn)\n",
    "    println(\"ẇ before the loop starts\")\n",
    "    println(ẇ)\n",
    "    while !all(0.99*ẇ .<= ẇn .<= 1.01*ẇ)\n",
    "        println(\"inner loop starts\")\n",
    "        for n in 1:2\n",
    "            for i in 1:2\n",
    "                for j in 1:2\n",
    "                    Ṗ[n, j] = (sum(π0[n, j, i, j]*((ẇ[i, j]*κdot[n, j, i, j])^(-θ_list[j]))*((Ȧ[i, j])^θ_list[j]) for i in 1:2))^(-1/θ_list[j])   \n",
    "                end\n",
    "            end\n",
    "        end\n",
    "        println(\"Ṗ\")\n",
    "        println(Ṗ)\n",
    "        for n in 1:2\n",
    "            for i in 1:2\n",
    "                for j in 1:2\n",
    "                    π1[n, j, i, j] = π0[n, j, i, j]*(((ẇ[i, j]*κdot[n, j, i, j])/Ṗ[n, j])^(-θ_list[j]))*((Ȧ[i,j])^θ_list[j])\n",
    "                end\n",
    "            end\n",
    "        end\n",
    "        println(\"π1\")\n",
    "        println(π1)\n",
    "        for i in 1:2\n",
    "            for j in 1:2\n",
    "                X[i, j] = w0[i, j]*L0[i, j]\n",
    "            end\n",
    "        end\n",
    "        println(\"X\")\n",
    "        println(X)\n",
    "        for i in 1:2\n",
    "            α[i] = sum(X[k, i] for k in 1:2)/sum(X[j, l] for j in 1:2, l in 1:2)\n",
    "        end\n",
    "        println(\"α\")\n",
    "        println(α)\n",
    "        for n in 1:2\n",
    "            for j in 1:2\n",
    "                Xt1[n, j] = α[j]*sum(ẇ[n, k]*L1[n, k]*w0[n, k] for k in 1:2)\n",
    "            end\n",
    "        end\n",
    "        for n in 1:2\n",
    "            for j in 1:2\n",
    "                ẇn[n, j] = sum(π1[i, j, n, j]*Xt1[i, j] for i in 1:2)/(L1[n, j]*w0[n, j])\n",
    "            end\n",
    "        end\n",
    "        println(\"ẇn at the end of inner loop\")\n",
    "        println(ẇn)\n",
    "        copy!(ẇ, ẇn)\n",
    "        println(\"ẇ reassigned\")\n",
    "        println(ẇ)\n",
    "        println(\"inner loop ends\")\n",
    "    end\n",
    "    println(\"ẇn after the loop ends\")\n",
    "    println(ẇn)\n",
    "    println(\"ẇ after the loop ends\")\n",
    "    println(ẇ)\n",
    "    for n in 1:2\n",
    "        for j in 1:2\n",
    "            u̇_1t[n, j] = ẇ[n, j]*(sum(μ_0[n, j, i, k]*(u̇_0t[i, k, 2])^(β/ν) for i in 1:2, k in 1:2))^(ν)\n",
    "        end\n",
    "    end\n",
    "    println(\"u̇_0t before the loop\")\n",
    "    println(u̇_0t)\n",
    "    println(\"u̇_1t\")\n",
    "    println(u̇_1t)\n",
    "    # HERE FIRST STORE VALUE OF INITIAL UDOT FROM THE SECOND PERIOD INTO \n",
    "    u̇_0t[:, :, 1] .= u̇_1t\n",
    "    println(\"u̇_0t updated and here it is after the loop\")\n",
    "    println(u̇_0t)\n",
    "    println(\"ITERATION ENDS\")\n",
    "    println(\"------------------------------------------------------------------------------------------------\")\n",
    "    println(\"------------------------------------------------------------------------------------------------\")\n",
    "    println(\"------------------------------------------------------------------------------------------------\")\n",
    "end "
   ]
  },
  {
   "cell_type": "code",
   "execution_count": null,
   "id": "f47a94cf",
   "metadata": {},
   "outputs": [],
   "source": []
  }
 ],
 "metadata": {
  "kernelspec": {
   "display_name": "Julia 1.8.5",
   "language": "julia",
   "name": "julia-1.8"
  },
  "language_info": {
   "file_extension": ".jl",
   "mimetype": "application/julia",
   "name": "julia",
   "version": "1.8.5"
  }
 },
 "nbformat": 4,
 "nbformat_minor": 5
}
