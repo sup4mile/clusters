{
 "cells": [
  {
   "cell_type": "code",
   "execution_count": null,
   "id": "825b4d8d",
   "metadata": {},
   "outputs": [],
   "source": [
    "μ_min1 = Array{Float64}(undef, 2, 2, 2, 2)\n",
    "π0 = Array{Float64}(undef, 2 ,2 , 2, 2)\n",
    "β = 0.8\n",
    "ν = 1.1"
   ]
  },
  {
   "cell_type": "code",
   "execution_count": null,
   "id": "6c4dc25a",
   "metadata": {},
   "outputs": [],
   "source": [
    "for i in 1:2\n",
    "    for j in 1:2\n",
    "        matrix = rand(2, 2)\n",
    "        matrix2 = matrix/sum(matrix)\n",
    "        μ_min1[i, j, :, :] = matrix2\n",
    "    end\n",
    "end\n",
    "μ_min1"
   ]
  },
  {
   "cell_type": "code",
   "execution_count": null,
   "id": "d6ee303f",
   "metadata": {},
   "outputs": [],
   "source": [
    "for i in 1:2\n",
    "    for j in 1:2\n",
    "        matrix = rand(2, 2)\n",
    "        matrix2 = matrix/sum(matrix)\n",
    "        π0[i, j, :, :] = matrix2\n",
    "    end\n",
    "end\n",
    "π0"
   ]
  },
  {
   "cell_type": "code",
   "execution_count": null,
   "id": "f821fb1f",
   "metadata": {},
   "outputs": [],
   "source": [
    "κdot = rand(0.95:0.001:1.08, (2, 2, 2, 2))"
   ]
  },
  {
   "cell_type": "code",
   "execution_count": null,
   "id": "7c7e3b5f",
   "metadata": {},
   "outputs": [],
   "source": [
    "Ȧ = rand(0.98:0.001:1.05, (2, 2))"
   ]
  },
  {
   "cell_type": "code",
   "execution_count": null,
   "id": "e99b3acb",
   "metadata": {},
   "outputs": [],
   "source": [
    "L_setup_matrix = rand(2, 2)\n",
    "L0 = L_setup_matrix/sum(L_setup_matrix)"
   ]
  },
  {
   "cell_type": "code",
   "execution_count": null,
   "id": "8a0a6bb5",
   "metadata": {},
   "outputs": [],
   "source": [
    "w0 = rand(0.5:0.001:1.5, (2, 2))"
   ]
  },
  {
   "cell_type": "code",
   "execution_count": null,
   "id": "19f3739b",
   "metadata": {},
   "outputs": [],
   "source": [
    "using Distributions\n",
    "θ_var = Frechet()\n",
    "θ_list = rand(θ_var, 2)"
   ]
  },
  {
   "cell_type": "code",
   "execution_count": null,
   "id": "966afe2f",
   "metadata": {},
   "outputs": [],
   "source": [
    "u̇_0t = Array{Float64}(undef, 2, 2, 2)\n",
    "u̇_0t[:, :, 1] = rand(0.98:0.001:1.02, (2, 2))\n",
    "u̇_0t[:, :, 2] = ones(2, 2)"
   ]
  },
  {
   "cell_type": "code",
   "execution_count": null,
   "id": "09d6c7c0",
   "metadata": {},
   "outputs": [],
   "source": [
    "ẇ = rand(0.97:0.001:1.06, (2, 2))"
   ]
  },
  {
   "cell_type": "code",
   "execution_count": null,
   "id": "2771ce9b",
   "metadata": {},
   "outputs": [],
   "source": [
    "μ_0 = Array{Float64}(undef, 2, 2, 2, 2)\n",
    "L1 = Array{Float64}(undef, 2, 2)\n",
    "ẇn = Array{Float64}(undef, 2, 2)\n",
    "Ṗ = Array{Float64}(undef, 2, 2)\n",
    "π1 = Array{Float64}(undef, 2, 2, 2, 2)\n",
    "X = Array{Float64}(undef, 2, 2)\n",
    "α = Array{Float64}(undef, 2)\n",
    "Xt1 = Array{Float64}(undef, 2, 2)"
   ]
  },
  {
   "cell_type": "code",
   "execution_count": null,
   "id": "b3cae945",
   "metadata": {},
   "outputs": [],
   "source": [
    "while !all(0.99 .* u̇_0t[:, :, 2] .<= u̇_0t[:, :, 1] .<= 1.01 .* u̇_0t[:, :, 2])\n",
    "#    μ_0 = Array{Float64}(undef, 2, 2, 2, 2)\n",
    "    for n in 1:2\n",
    "        for j in 1:2\n",
    "            for i in 1:2\n",
    "                for k in 1:2\n",
    "                    denom = sum(μ_min1[n, j, m, h]*((u̇_0t[m, h, 2])^(β/ν)) for m in 1:2, h in 1:2)\n",
    "                    μ_0[n, j, i, k] = (μ_min1[n, j, i, k]*((u̇_0t[i, k, 2])^(β/ν)))/denom\n",
    "                    println(μ_0[n, j, i, k], \"_mu_0\")\n",
    "                end\n",
    "            end\n",
    "        end\n",
    "    end\n",
    "#    L1 = Array{Float64}(undef, 2, 2)\n",
    "    for n in 1:2\n",
    "        for j in 1:2\n",
    "            L1[n, j] = sum(μ_0[i, k, n, j]*L0[i, k] for i in 1:2, k in 1:2)\n",
    "            println(\"_L1\")\n",
    "        end\n",
    "    end\n",
    "#    ẇn = Array{Float64}(undef, 2, 2)\n",
    "    while !all(0.99*ẇ .<= ẇn .<= 1.01*ẇ)\n",
    "\n",
    "#        Ṗ = Array{Float64}(undef, 2, 2)\n",
    "        for n in 1:2\n",
    "            for i in 1:2\n",
    "                for j in 1:2\n",
    "                    Ṗ[n, j] = (sum(π0[n, j, i, j]*((ẇ[i, j]*κdot[n, j, i, j])^(-θ_list[j]))*((Ȧ[i, j])^θ_list[j]) for i in 1:2))^(-1/θ_list[j])\n",
    "                    println(\"_Pdot\")    \n",
    "                end\n",
    "            end\n",
    "        end\n",
    "#        π1 = Array{Float64}(undef, 2, 2, 2, 2)\n",
    "        for n in 1:2\n",
    "            for i in 1:2\n",
    "                for j in 1:2\n",
    "                    π1[n, j, i, j] = π0[n, j, i, j]*(((ẇ[i, j]*κdot[n, j, i, j])/Ṗ[n, j])^(-θ_list[j]))*((Ȧ[i,j])^θ_list[j])\n",
    "                    println(\"_pi1\")\n",
    "                end\n",
    "            end\n",
    "        end\n",
    "        for i in 1:2\n",
    "            for j in 1:2\n",
    "                X[i, j] = w0[i, j]*L0[i, j]\n",
    "                println(\"_w0\")\n",
    "            end\n",
    "        end\n",
    "        for i in 1:2\n",
    "            α[i] = sum(X[k, i] for k in 1:2)/sum(X[j, l] for j in 1:2, l in 1:2)\n",
    "            println(\"_alpha\")\n",
    "        end\n",
    "#        Xt1 = Array{Float64}(undef, 2, 2)\n",
    "        for n in 1:2\n",
    "            for j in 1:2\n",
    "                Xt1[n, j] = α[j]*sum(ẇ[n, k]*L1[n, k]*w0[n, k] for k in 1:2)\n",
    "                println(\"_Xt1\")\n",
    "            end\n",
    "        end\n",
    "        for n in 1:2\n",
    "            for j in 1:2\n",
    "                ẇn[n, j] = sum(π1[i, j, n, j]*Xt1[i, j] for i in 1:2)/(L1[n, j]*w0[n, j])\n",
    "                println(\"_wdotn\")\n",
    "            end\n",
    "        end\n",
    "        ẇ = ẇn\n",
    "        println(\"_w reassigned\")\n",
    "    end\n",
    "    u̇_1t = Array{Float64}(undef, 2, 2)\n",
    "    for n in 1:2\n",
    "        for j in 1:2\n",
    "            u̇_1t[n, j] = ẇ[n, j]*(sum(μ_0[n, j, i, k]*(u̇_0t[i, k, 2])^(β/ν) for i in 1:2, k in 1:2))^(ν)\n",
    "            println(u̇_1t[n, j])\n",
    "        end\n",
    "    end\n",
    "    println(u̇_0t)\n",
    "    u̇_0t[:, :, 1] = u̇_1t\n",
    "    println(\"_udot0_updated\")\n",
    "    println(u̇_1t)\n",
    "end "
   ]
  },
  {
   "cell_type": "code",
   "execution_count": null,
   "id": "cacbb09c",
   "metadata": {},
   "outputs": [],
   "source": []
  }
 ],
 "metadata": {
  "kernelspec": {
   "display_name": "Julia 1.8.5",
   "language": "julia",
   "name": "julia-1.8"
  },
  "language_info": {
   "file_extension": ".jl",
   "mimetype": "application/julia",
   "name": "julia",
   "version": "1.8.5"
  }
 },
 "nbformat": 4,
 "nbformat_minor": 5
}
